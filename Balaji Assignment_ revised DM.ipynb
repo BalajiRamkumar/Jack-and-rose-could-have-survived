{
 "cells": [
  {
   "cell_type": "markdown",
   "id": "5743603a",
   "metadata": {},
   "source": [
    "<B>Libraries for Analysis"
   ]
  },
  {
   "cell_type": "code",
   "execution_count": 27,
   "id": "69a2610c",
   "metadata": {},
   "outputs": [],
   "source": [
    "import pandas as pd\n",
    "import numpy as np\n",
    "\n",
    "import scipy\n",
    "from scipy.stats import spearmanr\n",
    "\n",
    "import seaborn as sns\n",
    "import matplotlib.pyplot as plt\n",
    "\n",
    "from matplotlib import style\n"
   ]
  },
  {
   "cell_type": "markdown",
   "id": "4537c362",
   "metadata": {},
   "source": [
    "<B> Reading the csv and data view"
   ]
  },
  {
   "cell_type": "code",
   "execution_count": 28,
   "id": "6fe17480",
   "metadata": {},
   "outputs": [
    {
     "data": {
      "text/html": [
       "<div>\n",
       "<style scoped>\n",
       "    .dataframe tbody tr th:only-of-type {\n",
       "        vertical-align: middle;\n",
       "    }\n",
       "\n",
       "    .dataframe tbody tr th {\n",
       "        vertical-align: top;\n",
       "    }\n",
       "\n",
       "    .dataframe thead th {\n",
       "        text-align: right;\n",
       "    }\n",
       "</style>\n",
       "<table border=\"1\" class=\"dataframe\">\n",
       "  <thead>\n",
       "    <tr style=\"text-align: right;\">\n",
       "      <th></th>\n",
       "      <th>survived</th>\n",
       "      <th>pclass</th>\n",
       "      <th>name</th>\n",
       "      <th>sex</th>\n",
       "      <th>age</th>\n",
       "      <th>sibsp</th>\n",
       "      <th>parch</th>\n",
       "      <th>ticket</th>\n",
       "      <th>fare</th>\n",
       "      <th>cabin</th>\n",
       "      <th>embarked</th>\n",
       "      <th>boat</th>\n",
       "      <th>body</th>\n",
       "      <th>dest</th>\n",
       "    </tr>\n",
       "  </thead>\n",
       "  <tbody>\n",
       "    <tr>\n",
       "      <th>0</th>\n",
       "      <td>1</td>\n",
       "      <td>1</td>\n",
       "      <td>Allen, Miss. Elisabeth Walton</td>\n",
       "      <td>F</td>\n",
       "      <td>29.0000</td>\n",
       "      <td>0</td>\n",
       "      <td>0</td>\n",
       "      <td>24160</td>\n",
       "      <td>211.3375</td>\n",
       "      <td>B5</td>\n",
       "      <td>S</td>\n",
       "      <td>2</td>\n",
       "      <td>NaN</td>\n",
       "      <td>St Louis, MO</td>\n",
       "    </tr>\n",
       "    <tr>\n",
       "      <th>1</th>\n",
       "      <td>1</td>\n",
       "      <td>1</td>\n",
       "      <td>Allison, Master. Hudson Trevor</td>\n",
       "      <td>M</td>\n",
       "      <td>0.9167</td>\n",
       "      <td>1</td>\n",
       "      <td>2</td>\n",
       "      <td>113781</td>\n",
       "      <td>151.5500</td>\n",
       "      <td>C22 C26</td>\n",
       "      <td>S</td>\n",
       "      <td>11</td>\n",
       "      <td>NaN</td>\n",
       "      <td>Montreal, PQ / Chesterville, ON</td>\n",
       "    </tr>\n",
       "    <tr>\n",
       "      <th>2</th>\n",
       "      <td>0</td>\n",
       "      <td>1</td>\n",
       "      <td>Allison, Miss. Helen Loraine</td>\n",
       "      <td>F</td>\n",
       "      <td>2.0000</td>\n",
       "      <td>1</td>\n",
       "      <td>2</td>\n",
       "      <td>113781</td>\n",
       "      <td>151.5500</td>\n",
       "      <td>C22 C26</td>\n",
       "      <td>S</td>\n",
       "      <td>NaN</td>\n",
       "      <td>NaN</td>\n",
       "      <td>Montreal, PQ / Chesterville, ON</td>\n",
       "    </tr>\n",
       "    <tr>\n",
       "      <th>3</th>\n",
       "      <td>0</td>\n",
       "      <td>1</td>\n",
       "      <td>Allison, Mr. Hudson Joshua Creighton</td>\n",
       "      <td>M</td>\n",
       "      <td>30.0000</td>\n",
       "      <td>1</td>\n",
       "      <td>2</td>\n",
       "      <td>113781</td>\n",
       "      <td>151.5500</td>\n",
       "      <td>C22 C26</td>\n",
       "      <td>S</td>\n",
       "      <td>NaN</td>\n",
       "      <td>135.0</td>\n",
       "      <td>Montreal, PQ / Chesterville, ON</td>\n",
       "    </tr>\n",
       "    <tr>\n",
       "      <th>4</th>\n",
       "      <td>0</td>\n",
       "      <td>1</td>\n",
       "      <td>Allison, Mrs. Hudson J C (Bessie Waldo Daniels)</td>\n",
       "      <td>F</td>\n",
       "      <td>25.0000</td>\n",
       "      <td>1</td>\n",
       "      <td>2</td>\n",
       "      <td>113781</td>\n",
       "      <td>151.5500</td>\n",
       "      <td>C22 C26</td>\n",
       "      <td>S</td>\n",
       "      <td>NaN</td>\n",
       "      <td>NaN</td>\n",
       "      <td>Montreal, PQ / Chesterville, ON</td>\n",
       "    </tr>\n",
       "    <tr>\n",
       "      <th>...</th>\n",
       "      <td>...</td>\n",
       "      <td>...</td>\n",
       "      <td>...</td>\n",
       "      <td>...</td>\n",
       "      <td>...</td>\n",
       "      <td>...</td>\n",
       "      <td>...</td>\n",
       "      <td>...</td>\n",
       "      <td>...</td>\n",
       "      <td>...</td>\n",
       "      <td>...</td>\n",
       "      <td>...</td>\n",
       "      <td>...</td>\n",
       "      <td>...</td>\n",
       "    </tr>\n",
       "    <tr>\n",
       "      <th>1304</th>\n",
       "      <td>0</td>\n",
       "      <td>3</td>\n",
       "      <td>Zabour, Miss. Hileni</td>\n",
       "      <td>F</td>\n",
       "      <td>14.5000</td>\n",
       "      <td>1</td>\n",
       "      <td>0</td>\n",
       "      <td>2665</td>\n",
       "      <td>14.4542</td>\n",
       "      <td>NaN</td>\n",
       "      <td>C</td>\n",
       "      <td>NaN</td>\n",
       "      <td>328.0</td>\n",
       "      <td>NaN</td>\n",
       "    </tr>\n",
       "    <tr>\n",
       "      <th>1305</th>\n",
       "      <td>0</td>\n",
       "      <td>3</td>\n",
       "      <td>Zabour, Miss. Thamine</td>\n",
       "      <td>F</td>\n",
       "      <td>NaN</td>\n",
       "      <td>1</td>\n",
       "      <td>0</td>\n",
       "      <td>2665</td>\n",
       "      <td>14.4542</td>\n",
       "      <td>NaN</td>\n",
       "      <td>C</td>\n",
       "      <td>NaN</td>\n",
       "      <td>NaN</td>\n",
       "      <td>NaN</td>\n",
       "    </tr>\n",
       "    <tr>\n",
       "      <th>1306</th>\n",
       "      <td>0</td>\n",
       "      <td>3</td>\n",
       "      <td>Zakarian, Mr. Mapriededer</td>\n",
       "      <td>M</td>\n",
       "      <td>26.5000</td>\n",
       "      <td>0</td>\n",
       "      <td>0</td>\n",
       "      <td>2656</td>\n",
       "      <td>7.2250</td>\n",
       "      <td>NaN</td>\n",
       "      <td>C</td>\n",
       "      <td>NaN</td>\n",
       "      <td>304.0</td>\n",
       "      <td>NaN</td>\n",
       "    </tr>\n",
       "    <tr>\n",
       "      <th>1307</th>\n",
       "      <td>0</td>\n",
       "      <td>3</td>\n",
       "      <td>Zakarian, Mr. Ortin</td>\n",
       "      <td>M</td>\n",
       "      <td>27.0000</td>\n",
       "      <td>0</td>\n",
       "      <td>0</td>\n",
       "      <td>2670</td>\n",
       "      <td>7.2250</td>\n",
       "      <td>NaN</td>\n",
       "      <td>C</td>\n",
       "      <td>NaN</td>\n",
       "      <td>NaN</td>\n",
       "      <td>NaN</td>\n",
       "    </tr>\n",
       "    <tr>\n",
       "      <th>1308</th>\n",
       "      <td>0</td>\n",
       "      <td>3</td>\n",
       "      <td>Zimmerman, Mr. Leo</td>\n",
       "      <td>M</td>\n",
       "      <td>29.0000</td>\n",
       "      <td>0</td>\n",
       "      <td>0</td>\n",
       "      <td>315082</td>\n",
       "      <td>7.8750</td>\n",
       "      <td>NaN</td>\n",
       "      <td>S</td>\n",
       "      <td>NaN</td>\n",
       "      <td>NaN</td>\n",
       "      <td>NaN</td>\n",
       "    </tr>\n",
       "  </tbody>\n",
       "</table>\n",
       "<p>1309 rows × 14 columns</p>\n",
       "</div>"
      ],
      "text/plain": [
       "      survived  pclass                                             name sex  \\\n",
       "0            1       1                    Allen, Miss. Elisabeth Walton   F   \n",
       "1            1       1                   Allison, Master. Hudson Trevor   M   \n",
       "2            0       1                     Allison, Miss. Helen Loraine   F   \n",
       "3            0       1             Allison, Mr. Hudson Joshua Creighton   M   \n",
       "4            0       1  Allison, Mrs. Hudson J C (Bessie Waldo Daniels)   F   \n",
       "...        ...     ...                                              ...  ..   \n",
       "1304         0       3                             Zabour, Miss. Hileni   F   \n",
       "1305         0       3                            Zabour, Miss. Thamine   F   \n",
       "1306         0       3                        Zakarian, Mr. Mapriededer   M   \n",
       "1307         0       3                              Zakarian, Mr. Ortin   M   \n",
       "1308         0       3                               Zimmerman, Mr. Leo   M   \n",
       "\n",
       "          age  sibsp  parch  ticket      fare    cabin embarked boat   body  \\\n",
       "0     29.0000      0      0   24160  211.3375       B5        S    2    NaN   \n",
       "1      0.9167      1      2  113781  151.5500  C22 C26        S   11    NaN   \n",
       "2      2.0000      1      2  113781  151.5500  C22 C26        S  NaN    NaN   \n",
       "3     30.0000      1      2  113781  151.5500  C22 C26        S  NaN  135.0   \n",
       "4     25.0000      1      2  113781  151.5500  C22 C26        S  NaN    NaN   \n",
       "...       ...    ...    ...     ...       ...      ...      ...  ...    ...   \n",
       "1304  14.5000      1      0    2665   14.4542      NaN        C  NaN  328.0   \n",
       "1305      NaN      1      0    2665   14.4542      NaN        C  NaN    NaN   \n",
       "1306  26.5000      0      0    2656    7.2250      NaN        C  NaN  304.0   \n",
       "1307  27.0000      0      0    2670    7.2250      NaN        C  NaN    NaN   \n",
       "1308  29.0000      0      0  315082    7.8750      NaN        S  NaN    NaN   \n",
       "\n",
       "                                 dest  \n",
       "0                        St Louis, MO  \n",
       "1     Montreal, PQ / Chesterville, ON  \n",
       "2     Montreal, PQ / Chesterville, ON  \n",
       "3     Montreal, PQ / Chesterville, ON  \n",
       "4     Montreal, PQ / Chesterville, ON  \n",
       "...                               ...  \n",
       "1304                              NaN  \n",
       "1305                              NaN  \n",
       "1306                              NaN  \n",
       "1307                              NaN  \n",
       "1308                              NaN  \n",
       "\n",
       "[1309 rows x 14 columns]"
      ]
     },
     "execution_count": 28,
     "metadata": {},
     "output_type": "execute_result"
    }
   ],
   "source": [
    "data = pd.read_csv(r'/Users/balajir/Documents/MSC/Sem 2/Business Data Mining/Assignment/Titanic.csv')\n",
    "data\n"
   ]
  },
  {
   "cell_type": "markdown",
   "id": "358a1a65",
   "metadata": {},
   "source": [
    "<b> understanding the number of nulls in each column"
   ]
  },
  {
   "cell_type": "code",
   "execution_count": 29,
   "id": "cc9183ff",
   "metadata": {},
   "outputs": [
    {
     "data": {
      "text/plain": [
       "survived       0\n",
       "pclass         0\n",
       "name           0\n",
       "sex            0\n",
       "age          263\n",
       "sibsp          0\n",
       "parch          0\n",
       "ticket         0\n",
       "fare           1\n",
       "cabin       1014\n",
       "embarked       2\n",
       "boat         823\n",
       "body        1188\n",
       "dest         564\n",
       "dtype: int64"
      ]
     },
     "execution_count": 29,
     "metadata": {},
     "output_type": "execute_result"
    }
   ],
   "source": [
    "data.isnull().sum()"
   ]
  },
  {
   "cell_type": "markdown",
   "id": "35a15248",
   "metadata": {},
   "source": [
    "<b> Exploring data Types"
   ]
  },
  {
   "cell_type": "code",
   "execution_count": 30,
   "id": "9ad91dea",
   "metadata": {
    "scrolled": true
   },
   "outputs": [
    {
     "name": "stdout",
     "output_type": "stream",
     "text": [
      "<class 'pandas.core.frame.DataFrame'>\n",
      "RangeIndex: 1309 entries, 0 to 1308\n",
      "Data columns (total 14 columns):\n",
      " #   Column    Non-Null Count  Dtype  \n",
      "---  ------    --------------  -----  \n",
      " 0   survived  1309 non-null   int64  \n",
      " 1   pclass    1309 non-null   int64  \n",
      " 2   name      1309 non-null   object \n",
      " 3   sex       1309 non-null   object \n",
      " 4   age       1046 non-null   float64\n",
      " 5   sibsp     1309 non-null   int64  \n",
      " 6   parch     1309 non-null   int64  \n",
      " 7   ticket    1309 non-null   object \n",
      " 8   fare      1308 non-null   float64\n",
      " 9   cabin     295 non-null    object \n",
      " 10  embarked  1307 non-null   object \n",
      " 11  boat      486 non-null    object \n",
      " 12  body      121 non-null    float64\n",
      " 13  dest      745 non-null    object \n",
      "dtypes: float64(3), int64(4), object(7)\n",
      "memory usage: 143.3+ KB\n"
     ]
    }
   ],
   "source": [
    "data.info()"
   ]
  },
  {
   "cell_type": "markdown",
   "id": "62769dbc",
   "metadata": {},
   "source": [
    "<b> 5 point analysis"
   ]
  },
  {
   "cell_type": "code",
   "execution_count": 31,
   "id": "20a2eebe",
   "metadata": {},
   "outputs": [
    {
     "data": {
      "text/html": [
       "<div>\n",
       "<style scoped>\n",
       "    .dataframe tbody tr th:only-of-type {\n",
       "        vertical-align: middle;\n",
       "    }\n",
       "\n",
       "    .dataframe tbody tr th {\n",
       "        vertical-align: top;\n",
       "    }\n",
       "\n",
       "    .dataframe thead th {\n",
       "        text-align: right;\n",
       "    }\n",
       "</style>\n",
       "<table border=\"1\" class=\"dataframe\">\n",
       "  <thead>\n",
       "    <tr style=\"text-align: right;\">\n",
       "      <th></th>\n",
       "      <th>survived</th>\n",
       "      <th>pclass</th>\n",
       "      <th>age</th>\n",
       "      <th>sibsp</th>\n",
       "      <th>parch</th>\n",
       "      <th>fare</th>\n",
       "      <th>body</th>\n",
       "    </tr>\n",
       "  </thead>\n",
       "  <tbody>\n",
       "    <tr>\n",
       "      <th>count</th>\n",
       "      <td>1309.000000</td>\n",
       "      <td>1309.000000</td>\n",
       "      <td>1046.000000</td>\n",
       "      <td>1309.000000</td>\n",
       "      <td>1309.000000</td>\n",
       "      <td>1308.000000</td>\n",
       "      <td>121.000000</td>\n",
       "    </tr>\n",
       "    <tr>\n",
       "      <th>mean</th>\n",
       "      <td>0.381971</td>\n",
       "      <td>2.294882</td>\n",
       "      <td>29.881135</td>\n",
       "      <td>0.498854</td>\n",
       "      <td>0.385027</td>\n",
       "      <td>33.295479</td>\n",
       "      <td>160.809917</td>\n",
       "    </tr>\n",
       "    <tr>\n",
       "      <th>std</th>\n",
       "      <td>0.486055</td>\n",
       "      <td>0.837836</td>\n",
       "      <td>14.413500</td>\n",
       "      <td>1.041658</td>\n",
       "      <td>0.865560</td>\n",
       "      <td>51.758668</td>\n",
       "      <td>97.696922</td>\n",
       "    </tr>\n",
       "    <tr>\n",
       "      <th>min</th>\n",
       "      <td>0.000000</td>\n",
       "      <td>1.000000</td>\n",
       "      <td>0.166700</td>\n",
       "      <td>0.000000</td>\n",
       "      <td>0.000000</td>\n",
       "      <td>0.000000</td>\n",
       "      <td>1.000000</td>\n",
       "    </tr>\n",
       "    <tr>\n",
       "      <th>25%</th>\n",
       "      <td>0.000000</td>\n",
       "      <td>2.000000</td>\n",
       "      <td>21.000000</td>\n",
       "      <td>0.000000</td>\n",
       "      <td>0.000000</td>\n",
       "      <td>7.895800</td>\n",
       "      <td>72.000000</td>\n",
       "    </tr>\n",
       "    <tr>\n",
       "      <th>50%</th>\n",
       "      <td>0.000000</td>\n",
       "      <td>3.000000</td>\n",
       "      <td>28.000000</td>\n",
       "      <td>0.000000</td>\n",
       "      <td>0.000000</td>\n",
       "      <td>14.454200</td>\n",
       "      <td>155.000000</td>\n",
       "    </tr>\n",
       "    <tr>\n",
       "      <th>75%</th>\n",
       "      <td>1.000000</td>\n",
       "      <td>3.000000</td>\n",
       "      <td>39.000000</td>\n",
       "      <td>1.000000</td>\n",
       "      <td>0.000000</td>\n",
       "      <td>31.275000</td>\n",
       "      <td>256.000000</td>\n",
       "    </tr>\n",
       "    <tr>\n",
       "      <th>max</th>\n",
       "      <td>1.000000</td>\n",
       "      <td>3.000000</td>\n",
       "      <td>80.000000</td>\n",
       "      <td>8.000000</td>\n",
       "      <td>9.000000</td>\n",
       "      <td>512.329200</td>\n",
       "      <td>328.000000</td>\n",
       "    </tr>\n",
       "  </tbody>\n",
       "</table>\n",
       "</div>"
      ],
      "text/plain": [
       "          survived       pclass          age        sibsp        parch  \\\n",
       "count  1309.000000  1309.000000  1046.000000  1309.000000  1309.000000   \n",
       "mean      0.381971     2.294882    29.881135     0.498854     0.385027   \n",
       "std       0.486055     0.837836    14.413500     1.041658     0.865560   \n",
       "min       0.000000     1.000000     0.166700     0.000000     0.000000   \n",
       "25%       0.000000     2.000000    21.000000     0.000000     0.000000   \n",
       "50%       0.000000     3.000000    28.000000     0.000000     0.000000   \n",
       "75%       1.000000     3.000000    39.000000     1.000000     0.000000   \n",
       "max       1.000000     3.000000    80.000000     8.000000     9.000000   \n",
       "\n",
       "              fare        body  \n",
       "count  1308.000000  121.000000  \n",
       "mean     33.295479  160.809917  \n",
       "std      51.758668   97.696922  \n",
       "min       0.000000    1.000000  \n",
       "25%       7.895800   72.000000  \n",
       "50%      14.454200  155.000000  \n",
       "75%      31.275000  256.000000  \n",
       "max     512.329200  328.000000  "
      ]
     },
     "execution_count": 31,
     "metadata": {},
     "output_type": "execute_result"
    }
   ],
   "source": [
    "data.describe()"
   ]
  },
  {
   "cell_type": "markdown",
   "id": "ea8ef931",
   "metadata": {},
   "source": [
    "<b> Data Analysis to understand the nulls"
   ]
  },
  {
   "cell_type": "code",
   "execution_count": 32,
   "id": "b937fe21",
   "metadata": {},
   "outputs": [
    {
     "data": {
      "text/html": [
       "<div>\n",
       "<style scoped>\n",
       "    .dataframe tbody tr th:only-of-type {\n",
       "        vertical-align: middle;\n",
       "    }\n",
       "\n",
       "    .dataframe tbody tr th {\n",
       "        vertical-align: top;\n",
       "    }\n",
       "\n",
       "    .dataframe thead th {\n",
       "        text-align: right;\n",
       "    }\n",
       "</style>\n",
       "<table border=\"1\" class=\"dataframe\">\n",
       "  <thead>\n",
       "    <tr style=\"text-align: right;\">\n",
       "      <th></th>\n",
       "      <th>Total</th>\n",
       "      <th>%</th>\n",
       "    </tr>\n",
       "  </thead>\n",
       "  <tbody>\n",
       "    <tr>\n",
       "      <th>body</th>\n",
       "      <td>1188</td>\n",
       "      <td>90.8</td>\n",
       "    </tr>\n",
       "    <tr>\n",
       "      <th>cabin</th>\n",
       "      <td>1014</td>\n",
       "      <td>77.5</td>\n",
       "    </tr>\n",
       "    <tr>\n",
       "      <th>boat</th>\n",
       "      <td>823</td>\n",
       "      <td>62.9</td>\n",
       "    </tr>\n",
       "    <tr>\n",
       "      <th>dest</th>\n",
       "      <td>564</td>\n",
       "      <td>43.1</td>\n",
       "    </tr>\n",
       "    <tr>\n",
       "      <th>age</th>\n",
       "      <td>263</td>\n",
       "      <td>20.1</td>\n",
       "    </tr>\n",
       "  </tbody>\n",
       "</table>\n",
       "</div>"
      ],
      "text/plain": [
       "       Total     %\n",
       "body    1188  90.8\n",
       "cabin   1014  77.5\n",
       "boat     823  62.9\n",
       "dest     564  43.1\n",
       "age      263  20.1"
      ]
     },
     "execution_count": 32,
     "metadata": {},
     "output_type": "execute_result"
    }
   ],
   "source": [
    "total = data.isnull().sum().sort_values(ascending=False)\n",
    "percent_1 = data.isnull().sum()/data.isnull().count()*100\n",
    "percent_2 = (round(percent_1, 1)).sort_values(ascending=False)\n",
    "missing_data = pd.concat([total, percent_2], axis=1, keys=['Total', '%'])\n",
    "missing_data.head(5)"
   ]
  },
  {
   "cell_type": "markdown",
   "id": "e5608420",
   "metadata": {},
   "source": [
    "<b> used for copying the columns headers"
   ]
  },
  {
   "cell_type": "code",
   "execution_count": 33,
   "id": "c3c5c0e8",
   "metadata": {},
   "outputs": [
    {
     "data": {
      "text/plain": [
       "array(['survived', 'pclass', 'name', 'sex', 'age', 'sibsp', 'parch',\n",
       "       'ticket', 'fare', 'cabin', 'embarked', 'boat', 'body', 'dest'],\n",
       "      dtype=object)"
      ]
     },
     "execution_count": 33,
     "metadata": {},
     "output_type": "execute_result"
    }
   ],
   "source": [
    "data.columns.values"
   ]
  },
  {
   "cell_type": "markdown",
   "id": "fbad4d7a",
   "metadata": {},
   "source": [
    "<b> Heatmap to represent nulls"
   ]
  },
  {
   "cell_type": "code",
   "execution_count": 34,
   "id": "6454e3e3",
   "metadata": {},
   "outputs": [
    {
     "data": {
      "image/png": "[encoded data removed]",
      "text/plain": [
       "<Figure size 432x288 with 1 Axes>"
      ]
     },
     "metadata": {},
     "output_type": "display_data"
    }
   ],
   "source": [
    "sns.heatmap(data.isnull(),yticklabels=False,cbar=False,cmap='viridis')\n",
    "plt.savefig('heatmap3.png')\n"
   ]
  },
  {
   "cell_type": "markdown",
   "id": "62837f37",
   "metadata": {},
   "source": [
    "<b> Boxplot Analysis on Age and class"
   ]
  },
  {
   "cell_type": "code",
   "execution_count": 35,
   "id": "b2d62e3c",
   "metadata": {},
   "outputs": [
    {
     "data": {
      "image/png": "[encoded data removed]",
      "text/plain": [
       "<Figure size 864x504 with 1 Axes>"
      ]
     },
     "metadata": {},
     "output_type": "display_data"
    }
   ],
   "source": [
    "plt.figure(figsize=(12,7))\n",
    "sns.boxplot(x='pclass',y='age',data=data,palette='winter')\n",
    "plt.savefig('boxplot.png')\n"
   ]
  },
  {
   "cell_type": "markdown",
   "id": "4f866165",
   "metadata": {},
   "source": [
    "<b> Wrangling data- Age null treatment"
   ]
  },
  {
   "cell_type": "code",
   "execution_count": 36,
   "id": "e858835c",
   "metadata": {},
   "outputs": [
    {
     "data": {
      "image/png": "[encoded data removed]",
      "text/plain": [
       "<Figure size 432x288 with 1 Axes>"
      ]
     },
     "metadata": {},
     "output_type": "display_data"
    }
   ],
   "source": [
    "data.groupby([\"pclass\"])[\"age\"].median()\n",
    "\n",
    "def impute_age(cols):\n",
    "  age = cols[0]\n",
    "  pclass = cols[1]\n",
    "\n",
    "  if pd.isnull(age):\n",
    "\n",
    "    if pclass == 1:\n",
    "      return 39\n",
    "      \n",
    "    elif pclass == 2:\n",
    "        return 29\n",
    "\n",
    "    else:\n",
    "        return 24\n",
    "\n",
    "  else:\n",
    "      return age\n",
    "\n",
    "data['age'] = data[['age','pclass']].apply(impute_age,axis=1)\n",
    "\n",
    "sns.heatmap(data.isnull(),yticklabels=False,cbar=False,cmap='viridis')\n",
    "plt.savefig('heatmap2.png')"
   ]
  },
  {
   "cell_type": "markdown",
   "id": "88ff35b9",
   "metadata": {},
   "source": [
    "<b> Converting sex, embarkment, boat to binary and multiclass Binary"
   ]
  },
  {
   "cell_type": "code",
   "execution_count": 37,
   "id": "88c4034e",
   "metadata": {},
   "outputs": [
    {
     "data": {
      "text/html": [
       "<div>\n",
       "<style scoped>\n",
       "    .dataframe tbody tr th:only-of-type {\n",
       "        vertical-align: middle;\n",
       "    }\n",
       "\n",
       "    .dataframe tbody tr th {\n",
       "        vertical-align: top;\n",
       "    }\n",
       "\n",
       "    .dataframe thead th {\n",
       "        text-align: right;\n",
       "    }\n",
       "</style>\n",
       "<table border=\"1\" class=\"dataframe\">\n",
       "  <thead>\n",
       "    <tr style=\"text-align: right;\">\n",
       "      <th></th>\n",
       "      <th>survived</th>\n",
       "      <th>pclass</th>\n",
       "      <th>name</th>\n",
       "      <th>sex</th>\n",
       "      <th>age</th>\n",
       "      <th>sibsp</th>\n",
       "      <th>parch</th>\n",
       "      <th>ticket</th>\n",
       "      <th>fare</th>\n",
       "      <th>cabin</th>\n",
       "      <th>embarked</th>\n",
       "      <th>boat</th>\n",
       "      <th>body</th>\n",
       "      <th>dest</th>\n",
       "      <th>Gender_Binary</th>\n",
       "      <th>embarked_Binary</th>\n",
       "      <th>boat_mod</th>\n",
       "      <th>body_mod</th>\n",
       "    </tr>\n",
       "  </thead>\n",
       "  <tbody>\n",
       "    <tr>\n",
       "      <th>0</th>\n",
       "      <td>1</td>\n",
       "      <td>1</td>\n",
       "      <td>Allen, Miss. Elisabeth Walton</td>\n",
       "      <td>F</td>\n",
       "      <td>29.0000</td>\n",
       "      <td>0</td>\n",
       "      <td>0</td>\n",
       "      <td>24160</td>\n",
       "      <td>211.3375</td>\n",
       "      <td>B5</td>\n",
       "      <td>S</td>\n",
       "      <td>2</td>\n",
       "      <td>NaN</td>\n",
       "      <td>St Louis, MO</td>\n",
       "      <td>0.0</td>\n",
       "      <td>1.0</td>\n",
       "      <td>1.0</td>\n",
       "      <td>0.0</td>\n",
       "    </tr>\n",
       "    <tr>\n",
       "      <th>1</th>\n",
       "      <td>1</td>\n",
       "      <td>1</td>\n",
       "      <td>Allison, Master. Hudson Trevor</td>\n",
       "      <td>M</td>\n",
       "      <td>0.9167</td>\n",
       "      <td>1</td>\n",
       "      <td>2</td>\n",
       "      <td>113781</td>\n",
       "      <td>151.5500</td>\n",
       "      <td>C22 C26</td>\n",
       "      <td>S</td>\n",
       "      <td>11</td>\n",
       "      <td>NaN</td>\n",
       "      <td>Montreal, PQ / Chesterville, ON</td>\n",
       "      <td>1.0</td>\n",
       "      <td>1.0</td>\n",
       "      <td>1.0</td>\n",
       "      <td>0.0</td>\n",
       "    </tr>\n",
       "    <tr>\n",
       "      <th>2</th>\n",
       "      <td>0</td>\n",
       "      <td>1</td>\n",
       "      <td>Allison, Miss. Helen Loraine</td>\n",
       "      <td>F</td>\n",
       "      <td>2.0000</td>\n",
       "      <td>1</td>\n",
       "      <td>2</td>\n",
       "      <td>113781</td>\n",
       "      <td>151.5500</td>\n",
       "      <td>C22 C26</td>\n",
       "      <td>S</td>\n",
       "      <td>NaN</td>\n",
       "      <td>NaN</td>\n",
       "      <td>Montreal, PQ / Chesterville, ON</td>\n",
       "      <td>0.0</td>\n",
       "      <td>1.0</td>\n",
       "      <td>0.0</td>\n",
       "      <td>0.0</td>\n",
       "    </tr>\n",
       "    <tr>\n",
       "      <th>3</th>\n",
       "      <td>0</td>\n",
       "      <td>1</td>\n",
       "      <td>Allison, Mr. Hudson Joshua Creighton</td>\n",
       "      <td>M</td>\n",
       "      <td>30.0000</td>\n",
       "      <td>1</td>\n",
       "      <td>2</td>\n",
       "      <td>113781</td>\n",
       "      <td>151.5500</td>\n",
       "      <td>C22 C26</td>\n",
       "      <td>S</td>\n",
       "      <td>NaN</td>\n",
       "      <td>135.0</td>\n",
       "      <td>Montreal, PQ / Chesterville, ON</td>\n",
       "      <td>1.0</td>\n",
       "      <td>1.0</td>\n",
       "      <td>0.0</td>\n",
       "      <td>1.0</td>\n",
       "    </tr>\n",
       "    <tr>\n",
       "      <th>4</th>\n",
       "      <td>0</td>\n",
       "      <td>1</td>\n",
       "      <td>Allison, Mrs. Hudson J C (Bessie Waldo Daniels)</td>\n",
       "      <td>F</td>\n",
       "      <td>25.0000</td>\n",
       "      <td>1</td>\n",
       "      <td>2</td>\n",
       "      <td>113781</td>\n",
       "      <td>151.5500</td>\n",
       "      <td>C22 C26</td>\n",
       "      <td>S</td>\n",
       "      <td>NaN</td>\n",
       "      <td>NaN</td>\n",
       "      <td>Montreal, PQ / Chesterville, ON</td>\n",
       "      <td>0.0</td>\n",
       "      <td>1.0</td>\n",
       "      <td>0.0</td>\n",
       "      <td>0.0</td>\n",
       "    </tr>\n",
       "    <tr>\n",
       "      <th>...</th>\n",
       "      <td>...</td>\n",
       "      <td>...</td>\n",
       "      <td>...</td>\n",
       "      <td>...</td>\n",
       "      <td>...</td>\n",
       "      <td>...</td>\n",
       "      <td>...</td>\n",
       "      <td>...</td>\n",
       "      <td>...</td>\n",
       "      <td>...</td>\n",
       "      <td>...</td>\n",
       "      <td>...</td>\n",
       "      <td>...</td>\n",
       "      <td>...</td>\n",
       "      <td>...</td>\n",
       "      <td>...</td>\n",
       "      <td>...</td>\n",
       "      <td>...</td>\n",
       "    </tr>\n",
       "    <tr>\n",
       "      <th>1304</th>\n",
       "      <td>0</td>\n",
       "      <td>3</td>\n",
       "      <td>Zabour, Miss. Hileni</td>\n",
       "      <td>F</td>\n",
       "      <td>14.5000</td>\n",
       "      <td>1</td>\n",
       "      <td>0</td>\n",
       "      <td>2665</td>\n",
       "      <td>14.4542</td>\n",
       "      <td>NaN</td>\n",
       "      <td>C</td>\n",
       "      <td>NaN</td>\n",
       "      <td>328.0</td>\n",
       "      <td>NaN</td>\n",
       "      <td>0.0</td>\n",
       "      <td>2.0</td>\n",
       "      <td>0.0</td>\n",
       "      <td>1.0</td>\n",
       "    </tr>\n",
       "    <tr>\n",
       "      <th>1305</th>\n",
       "      <td>0</td>\n",
       "      <td>3</td>\n",
       "      <td>Zabour, Miss. Thamine</td>\n",
       "      <td>F</td>\n",
       "      <td>24.0000</td>\n",
       "      <td>1</td>\n",
       "      <td>0</td>\n",
       "      <td>2665</td>\n",
       "      <td>14.4542</td>\n",
       "      <td>NaN</td>\n",
       "      <td>C</td>\n",
       "      <td>NaN</td>\n",
       "      <td>NaN</td>\n",
       "      <td>NaN</td>\n",
       "      <td>0.0</td>\n",
       "      <td>2.0</td>\n",
       "      <td>0.0</td>\n",
       "      <td>0.0</td>\n",
       "    </tr>\n",
       "    <tr>\n",
       "      <th>1306</th>\n",
       "      <td>0</td>\n",
       "      <td>3</td>\n",
       "      <td>Zakarian, Mr. Mapriededer</td>\n",
       "      <td>M</td>\n",
       "      <td>26.5000</td>\n",
       "      <td>0</td>\n",
       "      <td>0</td>\n",
       "      <td>2656</td>\n",
       "      <td>7.2250</td>\n",
       "      <td>NaN</td>\n",
       "      <td>C</td>\n",
       "      <td>NaN</td>\n",
       "      <td>304.0</td>\n",
       "      <td>NaN</td>\n",
       "      <td>1.0</td>\n",
       "      <td>2.0</td>\n",
       "      <td>0.0</td>\n",
       "      <td>1.0</td>\n",
       "    </tr>\n",
       "    <tr>\n",
       "      <th>1307</th>\n",
       "      <td>0</td>\n",
       "      <td>3</td>\n",
       "      <td>Zakarian, Mr. Ortin</td>\n",
       "      <td>M</td>\n",
       "      <td>27.0000</td>\n",
       "      <td>0</td>\n",
       "      <td>0</td>\n",
       "      <td>2670</td>\n",
       "      <td>7.2250</td>\n",
       "      <td>NaN</td>\n",
       "      <td>C</td>\n",
       "      <td>NaN</td>\n",
       "      <td>NaN</td>\n",
       "      <td>NaN</td>\n",
       "      <td>1.0</td>\n",
       "      <td>2.0</td>\n",
       "      <td>0.0</td>\n",
       "      <td>0.0</td>\n",
       "    </tr>\n",
       "    <tr>\n",
       "      <th>1308</th>\n",
       "      <td>0</td>\n",
       "      <td>3</td>\n",
       "      <td>Zimmerman, Mr. Leo</td>\n",
       "      <td>M</td>\n",
       "      <td>29.0000</td>\n",
       "      <td>0</td>\n",
       "      <td>0</td>\n",
       "      <td>315082</td>\n",
       "      <td>7.8750</td>\n",
       "      <td>NaN</td>\n",
       "      <td>S</td>\n",
       "      <td>NaN</td>\n",
       "      <td>NaN</td>\n",
       "      <td>NaN</td>\n",
       "      <td>1.0</td>\n",
       "      <td>1.0</td>\n",
       "      <td>0.0</td>\n",
       "      <td>0.0</td>\n",
       "    </tr>\n",
       "  </tbody>\n",
       "</table>\n",
       "<p>1309 rows × 18 columns</p>\n",
       "</div>"
      ],
      "text/plain": [
       "      survived  pclass                                             name sex  \\\n",
       "0            1       1                    Allen, Miss. Elisabeth Walton   F   \n",
       "1            1       1                   Allison, Master. Hudson Trevor   M   \n",
       "2            0       1                     Allison, Miss. Helen Loraine   F   \n",
       "3            0       1             Allison, Mr. Hudson Joshua Creighton   M   \n",
       "4            0       1  Allison, Mrs. Hudson J C (Bessie Waldo Daniels)   F   \n",
       "...        ...     ...                                              ...  ..   \n",
       "1304         0       3                             Zabour, Miss. Hileni   F   \n",
       "1305         0       3                            Zabour, Miss. Thamine   F   \n",
       "1306         0       3                        Zakarian, Mr. Mapriededer   M   \n",
       "1307         0       3                              Zakarian, Mr. Ortin   M   \n",
       "1308         0       3                               Zimmerman, Mr. Leo   M   \n",
       "\n",
       "          age  sibsp  parch  ticket      fare    cabin embarked boat   body  \\\n",
       "0     29.0000      0      0   24160  211.3375       B5        S    2    NaN   \n",
       "1      0.9167      1      2  113781  151.5500  C22 C26        S   11    NaN   \n",
       "2      2.0000      1      2  113781  151.5500  C22 C26        S  NaN    NaN   \n",
       "3     30.0000      1      2  113781  151.5500  C22 C26        S  NaN  135.0   \n",
       "4     25.0000      1      2  113781  151.5500  C22 C26        S  NaN    NaN   \n",
       "...       ...    ...    ...     ...       ...      ...      ...  ...    ...   \n",
       "1304  14.5000      1      0    2665   14.4542      NaN        C  NaN  328.0   \n",
       "1305  24.0000      1      0    2665   14.4542      NaN        C  NaN    NaN   \n",
       "1306  26.5000      0      0    2656    7.2250      NaN        C  NaN  304.0   \n",
       "1307  27.0000      0      0    2670    7.2250      NaN        C  NaN    NaN   \n",
       "1308  29.0000      0      0  315082    7.8750      NaN        S  NaN    NaN   \n",
       "\n",
       "                                 dest  Gender_Binary  embarked_Binary  \\\n",
       "0                        St Louis, MO            0.0              1.0   \n",
       "1     Montreal, PQ / Chesterville, ON            1.0              1.0   \n",
       "2     Montreal, PQ / Chesterville, ON            0.0              1.0   \n",
       "3     Montreal, PQ / Chesterville, ON            1.0              1.0   \n",
       "4     Montreal, PQ / Chesterville, ON            0.0              1.0   \n",
       "...                               ...            ...              ...   \n",
       "1304                              NaN            0.0              2.0   \n",
       "1305                              NaN            0.0              2.0   \n",
       "1306                              NaN            1.0              2.0   \n",
       "1307                              NaN            1.0              2.0   \n",
       "1308                              NaN            1.0              1.0   \n",
       "\n",
       "      boat_mod  body_mod  \n",
       "0          1.0       0.0  \n",
       "1          1.0       0.0  \n",
       "2          0.0       0.0  \n",
       "3          0.0       1.0  \n",
       "4          0.0       0.0  \n",
       "...        ...       ...  \n",
       "1304       0.0       1.0  \n",
       "1305       0.0       0.0  \n",
       "1306       0.0       1.0  \n",
       "1307       0.0       0.0  \n",
       "1308       0.0       0.0  \n",
       "\n",
       "[1309 rows x 18 columns]"
      ]
     },
     "execution_count": 37,
     "metadata": {},
     "output_type": "execute_result"
    }
   ],
   "source": [
    "data.loc[data['sex'] == 'M', 'Gender_Binary'] = 1\n",
    "data.loc[data['sex'] == 'F', 'Gender_Binary'] = 0\n",
    "data.loc[data['embarked'] == 'S', 'embarked_Binary'] = 1\n",
    "data.loc[data['embarked'] == 'C', 'embarked_Binary'] = 2\n",
    "data.loc[data['embarked'] == 'Q', 'embarked_Binary'] = 3\n",
    "\n",
    "data.loc[data.boat.isnull(),'boat_mod'] = 0\n",
    "data.loc[data.boat.notnull(),'boat_mod'] = 1\n",
    "\n",
    "data.loc[data.body.isnull(),'body_mod'] = 0\n",
    "data.loc[data.body.notnull(),'body_mod'] = 1\n",
    "\n",
    "\n",
    "data\n"
   ]
  },
  {
   "cell_type": "markdown",
   "id": "9fade352",
   "metadata": {},
   "source": [
    "<b> Graphical representation of survived"
   ]
  },
  {
   "cell_type": "code",
   "execution_count": 38,
   "id": "afc4501c",
   "metadata": {
    "scrolled": true
   },
   "outputs": [
    {
     "data": {
      "image/png": "[encoded data removed]",
      "text/plain": [
       "<Figure size 432x288 with 1 Axes>"
      ]
     },
     "metadata": {},
     "output_type": "display_data"
    }
   ],
   "source": [
    "sns.set_style('whitegrid')\n",
    "sns.countplot(x='survived',data=data)\n",
    "plt.savefig('countplot1.png')"
   ]
  },
  {
   "cell_type": "markdown",
   "id": "444bfb40",
   "metadata": {},
   "source": [
    "<b> Graphical representation of survivability per sex"
   ]
  },
  {
   "cell_type": "code",
   "execution_count": 39,
   "id": "ec46208f",
   "metadata": {
    "scrolled": true
   },
   "outputs": [
    {
     "data": {
      "image/png": "[encoded data removed]",
      "text/plain": [
       "<Figure size 432x288 with 1 Axes>"
      ]
     },
     "metadata": {},
     "output_type": "display_data"
    }
   ],
   "source": [
    "sns.set_style('whitegrid')\n",
    "sns.countplot(x='survived',hue='sex',data=data,palette='RdBu_r')\n",
    "plt.savefig('countplot2.png')\n"
   ]
  },
  {
   "cell_type": "markdown",
   "id": "e26cf298",
   "metadata": {},
   "source": [
    "<b> Graphical representation of survived per class"
   ]
  },
  {
   "cell_type": "code",
   "execution_count": 40,
   "id": "f0a98287",
   "metadata": {},
   "outputs": [
    {
     "data": {
      "image/png": "[encoded data removed]",
      "text/plain": [
       "<Figure size 432x288 with 1 Axes>"
      ]
     },
     "metadata": {},
     "output_type": "display_data"
    }
   ],
   "source": [
    "sns.set_style('whitegrid')\n",
    "sns.countplot(x='survived',hue='pclass',data=data,palette='rainbow')\n",
    "plt.savefig('countplot3.png')"
   ]
  },
  {
   "cell_type": "markdown",
   "id": "95e6cae9",
   "metadata": {},
   "source": [
    "<b> Graphical representation of no.of siblings count"
   ]
  },
  {
   "cell_type": "code",
   "execution_count": 41,
   "id": "a06964b2",
   "metadata": {
    "scrolled": true
   },
   "outputs": [
    {
     "data": {
      "image/png": "[encoded data removed]",
      "text/plain": [
       "<Figure size 432x288 with 1 Axes>"
      ]
     },
     "metadata": {},
     "output_type": "display_data"
    }
   ],
   "source": [
    "sns.countplot(x='sibsp',data=data)\n",
    "plt.savefig('countplot4.png')\n"
   ]
  },
  {
   "cell_type": "markdown",
   "id": "35c9294a",
   "metadata": {},
   "source": [
    "<B> Data wrangling- Dropping unwanted tables"
   ]
  },
  {
   "cell_type": "code",
   "execution_count": 42,
   "id": "1b4a6398",
   "metadata": {},
   "outputs": [
    {
     "data": {
      "text/html": [
       "<div>\n",
       "<style scoped>\n",
       "    .dataframe tbody tr th:only-of-type {\n",
       "        vertical-align: middle;\n",
       "    }\n",
       "\n",
       "    .dataframe tbody tr th {\n",
       "        vertical-align: top;\n",
       "    }\n",
       "\n",
       "    .dataframe thead th {\n",
       "        text-align: right;\n",
       "    }\n",
       "</style>\n",
       "<table border=\"1\" class=\"dataframe\">\n",
       "  <thead>\n",
       "    <tr style=\"text-align: right;\">\n",
       "      <th></th>\n",
       "      <th>survived</th>\n",
       "      <th>pclass</th>\n",
       "      <th>name</th>\n",
       "      <th>sex</th>\n",
       "      <th>age</th>\n",
       "      <th>sibsp</th>\n",
       "      <th>parch</th>\n",
       "      <th>fare</th>\n",
       "      <th>embarked</th>\n",
       "      <th>boat</th>\n",
       "      <th>body</th>\n",
       "      <th>Gender_Binary</th>\n",
       "      <th>embarked_Binary</th>\n",
       "      <th>boat_mod</th>\n",
       "      <th>body_mod</th>\n",
       "    </tr>\n",
       "  </thead>\n",
       "  <tbody>\n",
       "    <tr>\n",
       "      <th>0</th>\n",
       "      <td>1</td>\n",
       "      <td>1</td>\n",
       "      <td>Allen, Miss. Elisabeth Walton</td>\n",
       "      <td>F</td>\n",
       "      <td>29.0000</td>\n",
       "      <td>0</td>\n",
       "      <td>0</td>\n",
       "      <td>211.3375</td>\n",
       "      <td>S</td>\n",
       "      <td>2</td>\n",
       "      <td>NaN</td>\n",
       "      <td>0.0</td>\n",
       "      <td>1.0</td>\n",
       "      <td>1.0</td>\n",
       "      <td>0.0</td>\n",
       "    </tr>\n",
       "    <tr>\n",
       "      <th>1</th>\n",
       "      <td>1</td>\n",
       "      <td>1</td>\n",
       "      <td>Allison, Master. Hudson Trevor</td>\n",
       "      <td>M</td>\n",
       "      <td>0.9167</td>\n",
       "      <td>1</td>\n",
       "      <td>2</td>\n",
       "      <td>151.5500</td>\n",
       "      <td>S</td>\n",
       "      <td>11</td>\n",
       "      <td>NaN</td>\n",
       "      <td>1.0</td>\n",
       "      <td>1.0</td>\n",
       "      <td>1.0</td>\n",
       "      <td>0.0</td>\n",
       "    </tr>\n",
       "    <tr>\n",
       "      <th>2</th>\n",
       "      <td>0</td>\n",
       "      <td>1</td>\n",
       "      <td>Allison, Miss. Helen Loraine</td>\n",
       "      <td>F</td>\n",
       "      <td>2.0000</td>\n",
       "      <td>1</td>\n",
       "      <td>2</td>\n",
       "      <td>151.5500</td>\n",
       "      <td>S</td>\n",
       "      <td>NaN</td>\n",
       "      <td>NaN</td>\n",
       "      <td>0.0</td>\n",
       "      <td>1.0</td>\n",
       "      <td>0.0</td>\n",
       "      <td>0.0</td>\n",
       "    </tr>\n",
       "    <tr>\n",
       "      <th>3</th>\n",
       "      <td>0</td>\n",
       "      <td>1</td>\n",
       "      <td>Allison, Mr. Hudson Joshua Creighton</td>\n",
       "      <td>M</td>\n",
       "      <td>30.0000</td>\n",
       "      <td>1</td>\n",
       "      <td>2</td>\n",
       "      <td>151.5500</td>\n",
       "      <td>S</td>\n",
       "      <td>NaN</td>\n",
       "      <td>135.0</td>\n",
       "      <td>1.0</td>\n",
       "      <td>1.0</td>\n",
       "      <td>0.0</td>\n",
       "      <td>1.0</td>\n",
       "    </tr>\n",
       "    <tr>\n",
       "      <th>4</th>\n",
       "      <td>0</td>\n",
       "      <td>1</td>\n",
       "      <td>Allison, Mrs. Hudson J C (Bessie Waldo Daniels)</td>\n",
       "      <td>F</td>\n",
       "      <td>25.0000</td>\n",
       "      <td>1</td>\n",
       "      <td>2</td>\n",
       "      <td>151.5500</td>\n",
       "      <td>S</td>\n",
       "      <td>NaN</td>\n",
       "      <td>NaN</td>\n",
       "      <td>0.0</td>\n",
       "      <td>1.0</td>\n",
       "      <td>0.0</td>\n",
       "      <td>0.0</td>\n",
       "    </tr>\n",
       "    <tr>\n",
       "      <th>...</th>\n",
       "      <td>...</td>\n",
       "      <td>...</td>\n",
       "      <td>...</td>\n",
       "      <td>...</td>\n",
       "      <td>...</td>\n",
       "      <td>...</td>\n",
       "      <td>...</td>\n",
       "      <td>...</td>\n",
       "      <td>...</td>\n",
       "      <td>...</td>\n",
       "      <td>...</td>\n",
       "      <td>...</td>\n",
       "      <td>...</td>\n",
       "      <td>...</td>\n",
       "      <td>...</td>\n",
       "    </tr>\n",
       "    <tr>\n",
       "      <th>1304</th>\n",
       "      <td>0</td>\n",
       "      <td>3</td>\n",
       "      <td>Zabour, Miss. Hileni</td>\n",
       "      <td>F</td>\n",
       "      <td>14.5000</td>\n",
       "      <td>1</td>\n",
       "      <td>0</td>\n",
       "      <td>14.4542</td>\n",
       "      <td>C</td>\n",
       "      <td>NaN</td>\n",
       "      <td>328.0</td>\n",
       "      <td>0.0</td>\n",
       "      <td>2.0</td>\n",
       "      <td>0.0</td>\n",
       "      <td>1.0</td>\n",
       "    </tr>\n",
       "    <tr>\n",
       "      <th>1305</th>\n",
       "      <td>0</td>\n",
       "      <td>3</td>\n",
       "      <td>Zabour, Miss. Thamine</td>\n",
       "      <td>F</td>\n",
       "      <td>24.0000</td>\n",
       "      <td>1</td>\n",
       "      <td>0</td>\n",
       "      <td>14.4542</td>\n",
       "      <td>C</td>\n",
       "      <td>NaN</td>\n",
       "      <td>NaN</td>\n",
       "      <td>0.0</td>\n",
       "      <td>2.0</td>\n",
       "      <td>0.0</td>\n",
       "      <td>0.0</td>\n",
       "    </tr>\n",
       "    <tr>\n",
       "      <th>1306</th>\n",
       "      <td>0</td>\n",
       "      <td>3</td>\n",
       "      <td>Zakarian, Mr. Mapriededer</td>\n",
       "      <td>M</td>\n",
       "      <td>26.5000</td>\n",
       "      <td>0</td>\n",
       "      <td>0</td>\n",
       "      <td>7.2250</td>\n",
       "      <td>C</td>\n",
       "      <td>NaN</td>\n",
       "      <td>304.0</td>\n",
       "      <td>1.0</td>\n",
       "      <td>2.0</td>\n",
       "      <td>0.0</td>\n",
       "      <td>1.0</td>\n",
       "    </tr>\n",
       "    <tr>\n",
       "      <th>1307</th>\n",
       "      <td>0</td>\n",
       "      <td>3</td>\n",
       "      <td>Zakarian, Mr. Ortin</td>\n",
       "      <td>M</td>\n",
       "      <td>27.0000</td>\n",
       "      <td>0</td>\n",
       "      <td>0</td>\n",
       "      <td>7.2250</td>\n",
       "      <td>C</td>\n",
       "      <td>NaN</td>\n",
       "      <td>NaN</td>\n",
       "      <td>1.0</td>\n",
       "      <td>2.0</td>\n",
       "      <td>0.0</td>\n",
       "      <td>0.0</td>\n",
       "    </tr>\n",
       "    <tr>\n",
       "      <th>1308</th>\n",
       "      <td>0</td>\n",
       "      <td>3</td>\n",
       "      <td>Zimmerman, Mr. Leo</td>\n",
       "      <td>M</td>\n",
       "      <td>29.0000</td>\n",
       "      <td>0</td>\n",
       "      <td>0</td>\n",
       "      <td>7.8750</td>\n",
       "      <td>S</td>\n",
       "      <td>NaN</td>\n",
       "      <td>NaN</td>\n",
       "      <td>1.0</td>\n",
       "      <td>1.0</td>\n",
       "      <td>0.0</td>\n",
       "      <td>0.0</td>\n",
       "    </tr>\n",
       "  </tbody>\n",
       "</table>\n",
       "<p>1309 rows × 15 columns</p>\n",
       "</div>"
      ],
      "text/plain": [
       "      survived  pclass                                             name sex  \\\n",
       "0            1       1                    Allen, Miss. Elisabeth Walton   F   \n",
       "1            1       1                   Allison, Master. Hudson Trevor   M   \n",
       "2            0       1                     Allison, Miss. Helen Loraine   F   \n",
       "3            0       1             Allison, Mr. Hudson Joshua Creighton   M   \n",
       "4            0       1  Allison, Mrs. Hudson J C (Bessie Waldo Daniels)   F   \n",
       "...        ...     ...                                              ...  ..   \n",
       "1304         0       3                             Zabour, Miss. Hileni   F   \n",
       "1305         0       3                            Zabour, Miss. Thamine   F   \n",
       "1306         0       3                        Zakarian, Mr. Mapriededer   M   \n",
       "1307         0       3                              Zakarian, Mr. Ortin   M   \n",
       "1308         0       3                               Zimmerman, Mr. Leo   M   \n",
       "\n",
       "          age  sibsp  parch      fare embarked boat   body  Gender_Binary  \\\n",
       "0     29.0000      0      0  211.3375        S    2    NaN            0.0   \n",
       "1      0.9167      1      2  151.5500        S   11    NaN            1.0   \n",
       "2      2.0000      1      2  151.5500        S  NaN    NaN            0.0   \n",
       "3     30.0000      1      2  151.5500        S  NaN  135.0            1.0   \n",
       "4     25.0000      1      2  151.5500        S  NaN    NaN            0.0   \n",
       "...       ...    ...    ...       ...      ...  ...    ...            ...   \n",
       "1304  14.5000      1      0   14.4542        C  NaN  328.0            0.0   \n",
       "1305  24.0000      1      0   14.4542        C  NaN    NaN            0.0   \n",
       "1306  26.5000      0      0    7.2250        C  NaN  304.0            1.0   \n",
       "1307  27.0000      0      0    7.2250        C  NaN    NaN            1.0   \n",
       "1308  29.0000      0      0    7.8750        S  NaN    NaN            1.0   \n",
       "\n",
       "      embarked_Binary  boat_mod  body_mod  \n",
       "0                 1.0       1.0       0.0  \n",
       "1                 1.0       1.0       0.0  \n",
       "2                 1.0       0.0       0.0  \n",
       "3                 1.0       0.0       1.0  \n",
       "4                 1.0       0.0       0.0  \n",
       "...               ...       ...       ...  \n",
       "1304              2.0       0.0       1.0  \n",
       "1305              2.0       0.0       0.0  \n",
       "1306              2.0       0.0       1.0  \n",
       "1307              2.0       0.0       0.0  \n",
       "1308              1.0       0.0       0.0  \n",
       "\n",
       "[1309 rows x 15 columns]"
      ]
     },
     "execution_count": 42,
     "metadata": {},
     "output_type": "execute_result"
    }
   ],
   "source": [
    "data.drop('cabin',axis=1,inplace=True)\n",
    "\n",
    "data.drop('dest',axis=1,inplace=True)\n",
    "\n",
    "data.drop('ticket',axis=1,inplace=True)\n",
    "\n",
    "data"
   ]
  },
  {
   "cell_type": "markdown",
   "id": "019c6a61",
   "metadata": {},
   "source": [
    "<B> Another method for transforming into binary"
   ]
  },
  {
   "cell_type": "code",
   "execution_count": 43,
   "id": "3434ca44",
   "metadata": {},
   "outputs": [
    {
     "data": {
      "text/plain": [
       "''"
      ]
     },
     "execution_count": 43,
     "metadata": {},
     "output_type": "execute_result"
    }
   ],
   "source": [
    "\"\"\"\"\"\"\n",
    "# from sklearn.preprocessing import LabelEncoder\n",
    "# le_sex = LabelEncoder()\n",
    "# le_embarked = LabelEncoder()\n",
    "# data['Gender_Binary'] = le_sex.fit_transform(data['sex'])\n",
    "# data['job_n'] = le_embarked.fit_transform(data['embarked'])\n",
    "# data\n",
    "\"\"\"\"\"\""
   ]
  },
  {
   "cell_type": "markdown",
   "id": "82419c0f",
   "metadata": {},
   "source": [
    "<b> Importing of sklearn libraries for x and Y variables"
   ]
  },
  {
   "cell_type": "code",
   "execution_count": 44,
   "id": "581ab994",
   "metadata": {},
   "outputs": [],
   "source": [
    "from sklearn.model_selection import train_test_split\n",
    "from sklearn import preprocessing\n",
    "from sklearn.linear_model import LogisticRegression\n",
    "from sklearn.metrics import classification_report\n",
    "from sklearn.metrics import roc_curve, roc_auc_score\n",
    "from sklearn.metrics import confusion_matrix\n",
    "y = data.loc[:,'survived']\n",
    "x = data.iloc[:,[1,5,6,7,8,9,10,11,12,13,14]]"
   ]
  },
  {
   "cell_type": "markdown",
   "id": "9a8df999",
   "metadata": {},
   "source": [
    "<b> More Data wrangling after assigning x and Y variables"
   ]
  },
  {
   "cell_type": "code",
   "execution_count": 45,
   "id": "cc67f679",
   "metadata": {},
   "outputs": [
    {
     "data": {
      "text/plain": [
       "0    1.0\n",
       "dtype: float64"
      ]
     },
     "execution_count": 45,
     "metadata": {},
     "output_type": "execute_result"
    }
   ],
   "source": [
    "x.embarked_Binary.mode()"
   ]
  },
  {
   "cell_type": "code",
   "execution_count": 46,
   "id": "4ef2288c",
   "metadata": {},
   "outputs": [
    {
     "name": "stdout",
     "output_type": "stream",
     "text": [
      "<class 'pandas.core.frame.DataFrame'>\n",
      "RangeIndex: 1309 entries, 0 to 1308\n",
      "Data columns (total 15 columns):\n",
      " #   Column           Non-Null Count  Dtype  \n",
      "---  ------           --------------  -----  \n",
      " 0   survived         1309 non-null   int64  \n",
      " 1   pclass           1309 non-null   int64  \n",
      " 2   name             1309 non-null   object \n",
      " 3   sex              1309 non-null   object \n",
      " 4   age              1309 non-null   float64\n",
      " 5   sibsp            1309 non-null   int64  \n",
      " 6   parch            1309 non-null   int64  \n",
      " 7   fare             1308 non-null   float64\n",
      " 8   embarked         1307 non-null   object \n",
      " 9   boat             486 non-null    object \n",
      " 10  body             121 non-null    float64\n",
      " 11  Gender_Binary    1309 non-null   float64\n",
      " 12  embarked_Binary  1307 non-null   float64\n",
      " 13  boat_mod         1309 non-null   float64\n",
      " 14  body_mod         1309 non-null   float64\n",
      "dtypes: float64(7), int64(4), object(4)\n",
      "memory usage: 153.5+ KB\n",
      "<class 'pandas.core.frame.DataFrame'>\n",
      "RangeIndex: 1309 entries, 0 to 1308\n",
      "Data columns (total 11 columns):\n",
      " #   Column           Non-Null Count  Dtype  \n",
      "---  ------           --------------  -----  \n",
      " 0   pclass           1309 non-null   int64  \n",
      " 1   sibsp            1309 non-null   int64  \n",
      " 2   parch            1309 non-null   int64  \n",
      " 3   fare             1308 non-null   float64\n",
      " 4   embarked         1307 non-null   object \n",
      " 5   boat             486 non-null    object \n",
      " 6   body             121 non-null    float64\n",
      " 7   Gender_Binary    1309 non-null   float64\n",
      " 8   embarked_Binary  1307 non-null   float64\n",
      " 9   boat_mod         1309 non-null   float64\n",
      " 10  body_mod         1309 non-null   float64\n",
      "dtypes: float64(6), int64(3), object(2)\n",
      "memory usage: 112.6+ KB\n"
     ]
    },
    {
     "name": "stderr",
     "output_type": "stream",
     "text": [
      "/opt/anaconda3/lib/python3.8/site-packages/pandas/core/indexing.py:1720: SettingWithCopyWarning: \n",
      "A value is trying to be set on a copy of a slice from a DataFrame.\n",
      "Try using .loc[row_indexer,col_indexer] = value instead\n",
      "\n",
      "See the caveats in the documentation: https://pandas.pydata.org/pandas-docs/stable/user_guide/indexing.html#returning-a-view-versus-a-copy\n",
      "  self._setitem_single_column(loc, value, pi)\n"
     ]
    },
    {
     "data": {
      "text/plain": [
       "pclass             0\n",
       "sibsp              0\n",
       "parch              0\n",
       "fare               0\n",
       "Gender_Binary      0\n",
       "embarked_Binary    0\n",
       "boat_mod           0\n",
       "body_mod           0\n",
       "dtype: int64"
      ]
     },
     "execution_count": 46,
     "metadata": {},
     "output_type": "execute_result"
    }
   ],
   "source": [
    "data.info()\n",
    "x.info()\n",
    "if 'embarked' in x.columns: del x['embarked']\n",
    "if 'boat' in x.columns: del x['boat']\n",
    "if 'body' in x.columns: del x['body']\n",
    "\n",
    "x.loc[x.embarked_Binary.isnull(), 'embarked_Binary'] = 1\n",
    "x.loc[x.fare.isnull(), 'fare'] = data.fare.median()\n",
    "\n",
    "x.isnull().sum()\n"
   ]
  },
  {
   "cell_type": "markdown",
   "id": "bbf7ad62",
   "metadata": {},
   "source": [
    "<b> Understanding X for Modeling"
   ]
  },
  {
   "cell_type": "code",
   "execution_count": 47,
   "id": "8467353f",
   "metadata": {},
   "outputs": [
    {
     "data": {
      "text/html": [
       "<div>\n",
       "<style scoped>\n",
       "    .dataframe tbody tr th:only-of-type {\n",
       "        vertical-align: middle;\n",
       "    }\n",
       "\n",
       "    .dataframe tbody tr th {\n",
       "        vertical-align: top;\n",
       "    }\n",
       "\n",
       "    .dataframe thead th {\n",
       "        text-align: right;\n",
       "    }\n",
       "</style>\n",
       "<table border=\"1\" class=\"dataframe\">\n",
       "  <thead>\n",
       "    <tr style=\"text-align: right;\">\n",
       "      <th></th>\n",
       "      <th>pclass</th>\n",
       "      <th>sibsp</th>\n",
       "      <th>parch</th>\n",
       "      <th>fare</th>\n",
       "      <th>Gender_Binary</th>\n",
       "      <th>embarked_Binary</th>\n",
       "      <th>boat_mod</th>\n",
       "      <th>body_mod</th>\n",
       "    </tr>\n",
       "  </thead>\n",
       "  <tbody>\n",
       "    <tr>\n",
       "      <th>0</th>\n",
       "      <td>1</td>\n",
       "      <td>0</td>\n",
       "      <td>0</td>\n",
       "      <td>211.3375</td>\n",
       "      <td>0.0</td>\n",
       "      <td>1.0</td>\n",
       "      <td>1.0</td>\n",
       "      <td>0.0</td>\n",
       "    </tr>\n",
       "    <tr>\n",
       "      <th>1</th>\n",
       "      <td>1</td>\n",
       "      <td>1</td>\n",
       "      <td>2</td>\n",
       "      <td>151.5500</td>\n",
       "      <td>1.0</td>\n",
       "      <td>1.0</td>\n",
       "      <td>1.0</td>\n",
       "      <td>0.0</td>\n",
       "    </tr>\n",
       "    <tr>\n",
       "      <th>2</th>\n",
       "      <td>1</td>\n",
       "      <td>1</td>\n",
       "      <td>2</td>\n",
       "      <td>151.5500</td>\n",
       "      <td>0.0</td>\n",
       "      <td>1.0</td>\n",
       "      <td>0.0</td>\n",
       "      <td>0.0</td>\n",
       "    </tr>\n",
       "    <tr>\n",
       "      <th>3</th>\n",
       "      <td>1</td>\n",
       "      <td>1</td>\n",
       "      <td>2</td>\n",
       "      <td>151.5500</td>\n",
       "      <td>1.0</td>\n",
       "      <td>1.0</td>\n",
       "      <td>0.0</td>\n",
       "      <td>1.0</td>\n",
       "    </tr>\n",
       "    <tr>\n",
       "      <th>4</th>\n",
       "      <td>1</td>\n",
       "      <td>1</td>\n",
       "      <td>2</td>\n",
       "      <td>151.5500</td>\n",
       "      <td>0.0</td>\n",
       "      <td>1.0</td>\n",
       "      <td>0.0</td>\n",
       "      <td>0.0</td>\n",
       "    </tr>\n",
       "  </tbody>\n",
       "</table>\n",
       "</div>"
      ],
      "text/plain": [
       "   pclass  sibsp  parch      fare  Gender_Binary  embarked_Binary  boat_mod  \\\n",
       "0       1      0      0  211.3375            0.0              1.0       1.0   \n",
       "1       1      1      2  151.5500            1.0              1.0       1.0   \n",
       "2       1      1      2  151.5500            0.0              1.0       0.0   \n",
       "3       1      1      2  151.5500            1.0              1.0       0.0   \n",
       "4       1      1      2  151.5500            0.0              1.0       0.0   \n",
       "\n",
       "   body_mod  \n",
       "0       0.0  \n",
       "1       0.0  \n",
       "2       0.0  \n",
       "3       1.0  \n",
       "4       0.0  "
      ]
     },
     "execution_count": 47,
     "metadata": {},
     "output_type": "execute_result"
    }
   ],
   "source": [
    "x.head()"
   ]
  },
  {
   "cell_type": "markdown",
   "id": "25ac35e3",
   "metadata": {},
   "source": [
    "<b> Splitting train and test data - set seed (100) random state"
   ]
  },
  {
   "cell_type": "code",
   "execution_count": 48,
   "id": "32fb1733",
   "metadata": {},
   "outputs": [
    {
     "data": {
      "text/html": [
       "<div>\n",
       "<style scoped>\n",
       "    .dataframe tbody tr th:only-of-type {\n",
       "        vertical-align: middle;\n",
       "    }\n",
       "\n",
       "    .dataframe tbody tr th {\n",
       "        vertical-align: top;\n",
       "    }\n",
       "\n",
       "    .dataframe thead th {\n",
       "        text-align: right;\n",
       "    }\n",
       "</style>\n",
       "<table border=\"1\" class=\"dataframe\">\n",
       "  <thead>\n",
       "    <tr style=\"text-align: right;\">\n",
       "      <th></th>\n",
       "      <th>pclass</th>\n",
       "      <th>sibsp</th>\n",
       "      <th>parch</th>\n",
       "      <th>fare</th>\n",
       "      <th>Gender_Binary</th>\n",
       "      <th>embarked_Binary</th>\n",
       "      <th>boat_mod</th>\n",
       "      <th>body_mod</th>\n",
       "    </tr>\n",
       "  </thead>\n",
       "  <tbody>\n",
       "    <tr>\n",
       "      <th>136</th>\n",
       "      <td>1</td>\n",
       "      <td>0</td>\n",
       "      <td>0</td>\n",
       "      <td>28.5000</td>\n",
       "      <td>1.0</td>\n",
       "      <td>2.0</td>\n",
       "      <td>1.0</td>\n",
       "      <td>0.0</td>\n",
       "    </tr>\n",
       "    <tr>\n",
       "      <th>490</th>\n",
       "      <td>2</td>\n",
       "      <td>0</td>\n",
       "      <td>0</td>\n",
       "      <td>10.5000</td>\n",
       "      <td>0.0</td>\n",
       "      <td>1.0</td>\n",
       "      <td>0.0</td>\n",
       "      <td>1.0</td>\n",
       "    </tr>\n",
       "    <tr>\n",
       "      <th>537</th>\n",
       "      <td>2</td>\n",
       "      <td>0</td>\n",
       "      <td>0</td>\n",
       "      <td>13.0000</td>\n",
       "      <td>1.0</td>\n",
       "      <td>1.0</td>\n",
       "      <td>0.0</td>\n",
       "      <td>0.0</td>\n",
       "    </tr>\n",
       "    <tr>\n",
       "      <th>1114</th>\n",
       "      <td>3</td>\n",
       "      <td>0</td>\n",
       "      <td>0</td>\n",
       "      <td>7.0000</td>\n",
       "      <td>1.0</td>\n",
       "      <td>1.0</td>\n",
       "      <td>0.0</td>\n",
       "      <td>0.0</td>\n",
       "    </tr>\n",
       "    <tr>\n",
       "      <th>840</th>\n",
       "      <td>3</td>\n",
       "      <td>0</td>\n",
       "      <td>0</td>\n",
       "      <td>8.8500</td>\n",
       "      <td>0.0</td>\n",
       "      <td>1.0</td>\n",
       "      <td>0.0</td>\n",
       "      <td>0.0</td>\n",
       "    </tr>\n",
       "    <tr>\n",
       "      <th>...</th>\n",
       "      <td>...</td>\n",
       "      <td>...</td>\n",
       "      <td>...</td>\n",
       "      <td>...</td>\n",
       "      <td>...</td>\n",
       "      <td>...</td>\n",
       "      <td>...</td>\n",
       "      <td>...</td>\n",
       "    </tr>\n",
       "    <tr>\n",
       "      <th>802</th>\n",
       "      <td>3</td>\n",
       "      <td>0</td>\n",
       "      <td>0</td>\n",
       "      <td>6.9500</td>\n",
       "      <td>1.0</td>\n",
       "      <td>3.0</td>\n",
       "      <td>0.0</td>\n",
       "      <td>0.0</td>\n",
       "    </tr>\n",
       "    <tr>\n",
       "      <th>53</th>\n",
       "      <td>1</td>\n",
       "      <td>0</td>\n",
       "      <td>0</td>\n",
       "      <td>47.1000</td>\n",
       "      <td>1.0</td>\n",
       "      <td>1.0</td>\n",
       "      <td>0.0</td>\n",
       "      <td>0.0</td>\n",
       "    </tr>\n",
       "    <tr>\n",
       "      <th>350</th>\n",
       "      <td>2</td>\n",
       "      <td>0</td>\n",
       "      <td>2</td>\n",
       "      <td>39.0000</td>\n",
       "      <td>0.0</td>\n",
       "      <td>1.0</td>\n",
       "      <td>1.0</td>\n",
       "      <td>0.0</td>\n",
       "    </tr>\n",
       "    <tr>\n",
       "      <th>79</th>\n",
       "      <td>1</td>\n",
       "      <td>2</td>\n",
       "      <td>0</td>\n",
       "      <td>25.7000</td>\n",
       "      <td>0.0</td>\n",
       "      <td>1.0</td>\n",
       "      <td>1.0</td>\n",
       "      <td>0.0</td>\n",
       "    </tr>\n",
       "    <tr>\n",
       "      <th>792</th>\n",
       "      <td>3</td>\n",
       "      <td>1</td>\n",
       "      <td>1</td>\n",
       "      <td>7.2292</td>\n",
       "      <td>1.0</td>\n",
       "      <td>2.0</td>\n",
       "      <td>0.0</td>\n",
       "      <td>0.0</td>\n",
       "    </tr>\n",
       "  </tbody>\n",
       "</table>\n",
       "<p>916 rows × 8 columns</p>\n",
       "</div>"
      ],
      "text/plain": [
       "      pclass  sibsp  parch     fare  Gender_Binary  embarked_Binary  boat_mod  \\\n",
       "136        1      0      0  28.5000            1.0              2.0       1.0   \n",
       "490        2      0      0  10.5000            0.0              1.0       0.0   \n",
       "537        2      0      0  13.0000            1.0              1.0       0.0   \n",
       "1114       3      0      0   7.0000            1.0              1.0       0.0   \n",
       "840        3      0      0   8.8500            0.0              1.0       0.0   \n",
       "...      ...    ...    ...      ...            ...              ...       ...   \n",
       "802        3      0      0   6.9500            1.0              3.0       0.0   \n",
       "53         1      0      0  47.1000            1.0              1.0       0.0   \n",
       "350        2      0      2  39.0000            0.0              1.0       1.0   \n",
       "79         1      2      0  25.7000            0.0              1.0       1.0   \n",
       "792        3      1      1   7.2292            1.0              2.0       0.0   \n",
       "\n",
       "      body_mod  \n",
       "136        0.0  \n",
       "490        1.0  \n",
       "537        0.0  \n",
       "1114       0.0  \n",
       "840        0.0  \n",
       "...        ...  \n",
       "802        0.0  \n",
       "53         0.0  \n",
       "350        0.0  \n",
       "79         0.0  \n",
       "792        0.0  \n",
       "\n",
       "[916 rows x 8 columns]"
      ]
     },
     "execution_count": 48,
     "metadata": {},
     "output_type": "execute_result"
    }
   ],
   "source": [
    "X_train, X_test, y_train, y_test = train_test_split(x,y,test_size=0.3, random_state=100)\n",
    "\n",
    "X_train\n",
    "\n"
   ]
  },
  {
   "cell_type": "markdown",
   "id": "7796c7cc",
   "metadata": {},
   "source": [
    "<b> Logistic Regression"
   ]
  },
  {
   "cell_type": "code",
   "execution_count": 49,
   "id": "26133f77",
   "metadata": {},
   "outputs": [
    {
     "data": {
      "text/plain": [
       "LogisticRegression()"
      ]
     },
     "execution_count": 49,
     "metadata": {},
     "output_type": "execute_result"
    }
   ],
   "source": [
    "lr = LogisticRegression()\n",
    "\n",
    "lr.fit(X_train,y_train)"
   ]
  },
  {
   "cell_type": "markdown",
   "id": "54b61278",
   "metadata": {},
   "source": [
    "<b> Logistic Prediction and score"
   ]
  },
  {
   "cell_type": "code",
   "execution_count": 50,
   "id": "1db0f563",
   "metadata": {},
   "outputs": [
    {
     "data": {
      "text/plain": [
       "0.9847328244274809"
      ]
     },
     "execution_count": 50,
     "metadata": {},
     "output_type": "execute_result"
    }
   ],
   "source": [
    "y_pred= lr.predict(X_test)\n",
    "\n",
    "lr.score(X_test,y_test)"
   ]
  },
  {
   "cell_type": "markdown",
   "id": "8e3dddda",
   "metadata": {},
   "source": [
    "<b> Logistic regression Confusion Matrix"
   ]
  },
  {
   "cell_type": "code",
   "execution_count": 51,
   "id": "582d167a",
   "metadata": {},
   "outputs": [
    {
     "data": {
      "text/plain": [
       "array([[250,   3],\n",
       "       [  3, 137]])"
      ]
     },
     "execution_count": 51,
     "metadata": {},
     "output_type": "execute_result"
    }
   ],
   "source": [
    "confusion_matrix(y_test,y_pred)"
   ]
  },
  {
   "cell_type": "markdown",
   "id": "4b83be7e",
   "metadata": {},
   "source": [
    "<b> Naive Bayes"
   ]
  },
  {
   "cell_type": "code",
   "execution_count": 52,
   "id": "efbfeaee",
   "metadata": {},
   "outputs": [
    {
     "data": {
      "text/plain": [
       "GaussianNB()"
      ]
     },
     "execution_count": 52,
     "metadata": {},
     "output_type": "execute_result"
    }
   ],
   "source": [
    "from sklearn.naive_bayes import GaussianNB\n",
    "nb = GaussianNB()\n",
    "nb.fit(X_train,y_train)"
   ]
  },
  {
   "cell_type": "markdown",
   "id": "1ab416b9",
   "metadata": {},
   "source": [
    "<b> Naive Bayes Score"
   ]
  },
  {
   "cell_type": "code",
   "execution_count": 53,
   "id": "9665b108",
   "metadata": {},
   "outputs": [
    {
     "data": {
      "text/plain": [
       "0.9745547073791349"
      ]
     },
     "execution_count": 53,
     "metadata": {},
     "output_type": "execute_result"
    }
   ],
   "source": [
    "nb.score (X_test,y_test)"
   ]
  },
  {
   "cell_type": "markdown",
   "id": "304f0978",
   "metadata": {},
   "source": [
    "<B> Naive Bayes Confusion Matrix and prediction"
   ]
  },
  {
   "cell_type": "code",
   "execution_count": 54,
   "id": "ae5fac68",
   "metadata": {},
   "outputs": [
    {
     "data": {
      "text/plain": [
       "array([[246,   7],\n",
       "       [  3, 137]])"
      ]
     },
     "execution_count": 54,
     "metadata": {},
     "output_type": "execute_result"
    }
   ],
   "source": [
    "y_pred1 = nb.predict (X_test) \n",
    "confusion_matrix(y_test,y_pred1)"
   ]
  },
  {
   "cell_type": "markdown",
   "id": "6a2ab52d",
   "metadata": {},
   "source": [
    "<b> KNN Prediction and score"
   ]
  },
  {
   "cell_type": "code",
   "execution_count": 55,
   "id": "63307ada",
   "metadata": {},
   "outputs": [
    {
     "data": {
      "text/plain": [
       "0.916030534351145"
      ]
     },
     "execution_count": 55,
     "metadata": {},
     "output_type": "execute_result"
    }
   ],
   "source": [
    "from sklearn.neighbors import KNeighborsClassifier\n",
    "knn = KNeighborsClassifier(n_neighbors=3)\n",
    "knn.fit(X_train,y_train)\n",
    "\n",
    "y_pred2 = knn.predict (X_test)\n",
    "\n",
    "knn.score (X_test,y_test)"
   ]
  },
  {
   "cell_type": "markdown",
   "id": "8821ea0c",
   "metadata": {},
   "source": [
    "<b> KNN Confusion Matrix"
   ]
  },
  {
   "cell_type": "code",
   "execution_count": 56,
   "id": "17175eeb",
   "metadata": {},
   "outputs": [
    {
     "data": {
      "text/plain": [
       "array([[230,  23],\n",
       "       [ 10, 130]])"
      ]
     },
     "execution_count": 56,
     "metadata": {},
     "output_type": "execute_result"
    }
   ],
   "source": [
    "confusion_matrix(y_test,y_pred2)"
   ]
  },
  {
   "cell_type": "markdown",
   "id": "a2a4723f",
   "metadata": {},
   "source": [
    "<b> Decision Tree Prediction and score"
   ]
  },
  {
   "cell_type": "code",
   "execution_count": 57,
   "id": "867e1483",
   "metadata": {},
   "outputs": [
    {
     "data": {
      "text/plain": [
       "0.9745547073791349"
      ]
     },
     "execution_count": 57,
     "metadata": {},
     "output_type": "execute_result"
    }
   ],
   "source": [
    "from sklearn import tree\n",
    "\n",
    "dt= tree.DecisionTreeClassifier()\n",
    "\n",
    "dt.fit(X_train,y_train)\n",
    "\n",
    "dt.score(X_test,y_test)"
   ]
  },
  {
   "cell_type": "code",
   "execution_count": 58,
   "id": "1aaef61b",
   "metadata": {},
   "outputs": [],
   "source": [
    "y_pred3 = dt.predict (X_test)"
   ]
  },
  {
   "cell_type": "markdown",
   "id": "01ee22fc",
   "metadata": {},
   "source": [
    "<b> Decision Tree Confusion Matrix"
   ]
  },
  {
   "cell_type": "code",
   "execution_count": 59,
   "id": "a41193d3",
   "metadata": {},
   "outputs": [
    {
     "data": {
      "text/plain": [
       "array([[249,   4],\n",
       "       [  6, 134]])"
      ]
     },
     "execution_count": 59,
     "metadata": {},
     "output_type": "execute_result"
    }
   ],
   "source": [
    "confusion_matrix(y_test,y_pred3)"
   ]
  },
  {
   "cell_type": "markdown",
   "id": "6a9895b6",
   "metadata": {},
   "source": [
    "<b> Cross validation 10 fold Linear regression"
   ]
  },
  {
   "cell_type": "code",
   "execution_count": 60,
   "id": "5b1e28ec",
   "metadata": {},
   "outputs": [
    {
     "name": "stderr",
     "output_type": "stream",
     "text": [
      "/opt/anaconda3/lib/python3.8/site-packages/sklearn/linear_model/_logistic.py:763: ConvergenceWarning: lbfgs failed to converge (status=1):\n",
      "STOP: TOTAL NO. of ITERATIONS REACHED LIMIT.\n",
      "\n",
      "Increase the number of iterations (max_iter) or scale the data as shown in:\n",
      "    https://scikit-learn.org/stable/modules/preprocessing.html\n",
      "Please also refer to the documentation for alternative solver options:\n",
      "    https://scikit-learn.org/stable/modules/linear_model.html#logistic-regression\n",
      "  n_iter_i = _check_optimize_result(\n",
      "/opt/anaconda3/lib/python3.8/site-packages/sklearn/linear_model/_logistic.py:763: ConvergenceWarning: lbfgs failed to converge (status=1):\n",
      "STOP: TOTAL NO. of ITERATIONS REACHED LIMIT.\n",
      "\n",
      "Increase the number of iterations (max_iter) or scale the data as shown in:\n",
      "    https://scikit-learn.org/stable/modules/preprocessing.html\n",
      "Please also refer to the documentation for alternative solver options:\n",
      "    https://scikit-learn.org/stable/modules/linear_model.html#logistic-regression\n",
      "  n_iter_i = _check_optimize_result(\n",
      "/opt/anaconda3/lib/python3.8/site-packages/sklearn/linear_model/_logistic.py:763: ConvergenceWarning: lbfgs failed to converge (status=1):\n",
      "STOP: TOTAL NO. of ITERATIONS REACHED LIMIT.\n",
      "\n",
      "Increase the number of iterations (max_iter) or scale the data as shown in:\n",
      "    https://scikit-learn.org/stable/modules/preprocessing.html\n",
      "Please also refer to the documentation for alternative solver options:\n",
      "    https://scikit-learn.org/stable/modules/linear_model.html#logistic-regression\n",
      "  n_iter_i = _check_optimize_result(\n",
      "/opt/anaconda3/lib/python3.8/site-packages/sklearn/linear_model/_logistic.py:763: ConvergenceWarning: lbfgs failed to converge (status=1):\n",
      "STOP: TOTAL NO. of ITERATIONS REACHED LIMIT.\n",
      "\n",
      "Increase the number of iterations (max_iter) or scale the data as shown in:\n",
      "    https://scikit-learn.org/stable/modules/preprocessing.html\n",
      "Please also refer to the documentation for alternative solver options:\n",
      "    https://scikit-learn.org/stable/modules/linear_model.html#logistic-regression\n",
      "  n_iter_i = _check_optimize_result(\n",
      "/opt/anaconda3/lib/python3.8/site-packages/sklearn/linear_model/_logistic.py:763: ConvergenceWarning: lbfgs failed to converge (status=1):\n",
      "STOP: TOTAL NO. of ITERATIONS REACHED LIMIT.\n",
      "\n",
      "Increase the number of iterations (max_iter) or scale the data as shown in:\n",
      "    https://scikit-learn.org/stable/modules/preprocessing.html\n",
      "Please also refer to the documentation for alternative solver options:\n",
      "    https://scikit-learn.org/stable/modules/linear_model.html#logistic-regression\n",
      "  n_iter_i = _check_optimize_result(\n",
      "/opt/anaconda3/lib/python3.8/site-packages/sklearn/linear_model/_logistic.py:763: ConvergenceWarning: lbfgs failed to converge (status=1):\n",
      "STOP: TOTAL NO. of ITERATIONS REACHED LIMIT.\n",
      "\n",
      "Increase the number of iterations (max_iter) or scale the data as shown in:\n",
      "    https://scikit-learn.org/stable/modules/preprocessing.html\n",
      "Please also refer to the documentation for alternative solver options:\n",
      "    https://scikit-learn.org/stable/modules/linear_model.html#logistic-regression\n",
      "  n_iter_i = _check_optimize_result(\n"
     ]
    },
    {
     "name": "stdout",
     "output_type": "stream",
     "text": [
      "Mean: 0.9716196846631628\n"
     ]
    },
    {
     "name": "stderr",
     "output_type": "stream",
     "text": [
      "/opt/anaconda3/lib/python3.8/site-packages/sklearn/linear_model/_logistic.py:763: ConvergenceWarning: lbfgs failed to converge (status=1):\n",
      "STOP: TOTAL NO. of ITERATIONS REACHED LIMIT.\n",
      "\n",
      "Increase the number of iterations (max_iter) or scale the data as shown in:\n",
      "    https://scikit-learn.org/stable/modules/preprocessing.html\n",
      "Please also refer to the documentation for alternative solver options:\n",
      "    https://scikit-learn.org/stable/modules/linear_model.html#logistic-regression\n",
      "  n_iter_i = _check_optimize_result(\n",
      "/opt/anaconda3/lib/python3.8/site-packages/sklearn/linear_model/_logistic.py:763: ConvergenceWarning: lbfgs failed to converge (status=1):\n",
      "STOP: TOTAL NO. of ITERATIONS REACHED LIMIT.\n",
      "\n",
      "Increase the number of iterations (max_iter) or scale the data as shown in:\n",
      "    https://scikit-learn.org/stable/modules/preprocessing.html\n",
      "Please also refer to the documentation for alternative solver options:\n",
      "    https://scikit-learn.org/stable/modules/linear_model.html#logistic-regression\n",
      "  n_iter_i = _check_optimize_result(\n"
     ]
    },
    {
     "data": {
      "text/plain": [
       "array([0.95652174, 0.95652174, 0.9673913 , 0.9673913 , 0.97826087,\n",
       "       1.        , 0.94505495, 0.96703297, 0.98901099, 0.98901099])"
      ]
     },
     "execution_count": 60,
     "metadata": {},
     "output_type": "execute_result"
    }
   ],
   "source": [
    "from sklearn.model_selection import cross_val_score\n",
    "    \n",
    "scores = cross_val_score(lr, X_train, y_train, cv=10)\n",
    "print(\"Mean:\", scores.mean())\n",
    "scores"
   ]
  },
  {
   "cell_type": "markdown",
   "id": "5a66455f",
   "metadata": {},
   "source": [
    "<b> Cross validation 10 fold Naive Bayes"
   ]
  },
  {
   "cell_type": "code",
   "execution_count": 61,
   "id": "9f4e1ed7",
   "metadata": {},
   "outputs": [
    {
     "name": "stdout",
     "output_type": "stream",
     "text": [
      "Mean: 0.9629001433349259\n"
     ]
    },
    {
     "data": {
      "text/plain": [
       "array([0.95652174, 0.95652174, 0.93478261, 0.95652174, 0.95652174,\n",
       "       1.        , 0.94505495, 0.96703297, 0.97802198, 0.97802198])"
      ]
     },
     "execution_count": 61,
     "metadata": {},
     "output_type": "execute_result"
    }
   ],
   "source": [
    "from sklearn.model_selection import cross_val_score\n",
    "scores = cross_val_score(nb, X_train, y_train, cv=10)\n",
    "print(\"Mean:\", scores.mean())\n",
    "scores"
   ]
  },
  {
   "cell_type": "markdown",
   "id": "1e653712",
   "metadata": {},
   "source": [
    "<b> Cross validation 10 fold KNN"
   ]
  },
  {
   "cell_type": "code",
   "execution_count": 62,
   "id": "0104091d",
   "metadata": {},
   "outputs": [
    {
     "name": "stdout",
     "output_type": "stream",
     "text": [
      "Mean: 0.8788819875776397\n"
     ]
    },
    {
     "data": {
      "text/plain": [
       "array([0.88043478, 0.80434783, 0.84782609, 0.93478261, 0.85869565,\n",
       "       0.89130435, 0.91208791, 0.91208791, 0.9010989 , 0.84615385])"
      ]
     },
     "execution_count": 62,
     "metadata": {},
     "output_type": "execute_result"
    }
   ],
   "source": [
    "from sklearn.model_selection import cross_val_score\n",
    "scores = cross_val_score(knn, X_train, y_train, cv=10)\n",
    "print(\"Mean:\", scores.mean())\n",
    "scores"
   ]
  },
  {
   "cell_type": "markdown",
   "id": "9ab7a105",
   "metadata": {},
   "source": [
    "<b> Cross validation 10 fold Decision Tree"
   ]
  },
  {
   "cell_type": "code",
   "execution_count": 63,
   "id": "d03ded22",
   "metadata": {},
   "outputs": [
    {
     "name": "stdout",
     "output_type": "stream",
     "text": [
      "Mean: 0.9628881987577639\n"
     ]
    },
    {
     "data": {
      "text/plain": [
       "array([0.93478261, 0.93478261, 0.9673913 , 0.97826087, 0.97826087,\n",
       "       0.97826087, 0.93406593, 0.96703297, 0.97802198, 0.97802198])"
      ]
     },
     "execution_count": 63,
     "metadata": {},
     "output_type": "execute_result"
    }
   ],
   "source": [
    "from sklearn.model_selection import cross_val_score\n",
    "scores = cross_val_score(dt, X_train, y_train, cv=10)\n",
    "print(\"Mean:\", scores.mean())\n",
    "scores"
   ]
  },
  {
   "cell_type": "markdown",
   "id": "0828784e",
   "metadata": {},
   "source": [
    "<b>ROC Curve modeling"
   ]
  },
  {
   "cell_type": "code",
   "execution_count": 64,
   "id": "72bc5624",
   "metadata": {},
   "outputs": [],
   "source": [
    "r_probs = [0 for _ in range(len(y_test))]\n",
    "nb_probs = nb.predict_proba(X_test)\n",
    "lr_probs = lr.predict_proba(X_test)\n",
    "knn_probs = knn.predict_proba(X_test)\n",
    "dt_probs = dt.predict_proba(X_test)"
   ]
  },
  {
   "cell_type": "code",
   "execution_count": 65,
   "id": "ffeac954",
   "metadata": {},
   "outputs": [],
   "source": [
    "nb_probs= nb_probs[:,1]\n",
    "lr_probs = lr_probs[:,1]\n",
    "knn_probs = knn_probs[:,1]\n",
    "dt_probs = dt_probs[:,1]"
   ]
  },
  {
   "cell_type": "code",
   "execution_count": 66,
   "id": "a80fd74b",
   "metadata": {},
   "outputs": [],
   "source": [
    "from sklearn.metrics import roc_auc_score, roc_curve\n",
    "\n",
    "r_auc = roc_auc_score(y_test,r_probs)\n",
    "nb_auc = roc_auc_score(y_test,nb_probs)\n",
    "lr_auc = roc_auc_score(y_test,lr_probs)\n",
    "knn_auc = roc_auc_score(y_test,knn_probs)\n",
    "dt_auc = roc_auc_score(y_test,dt_probs)\n"
   ]
  },
  {
   "cell_type": "code",
   "execution_count": 67,
   "id": "cd53d793",
   "metadata": {},
   "outputs": [],
   "source": [
    "r_fpr, r_tpr, _ = roc_curve(y_test, r_probs)\n",
    "lr_fpr, lr_tpr, _ = roc_curve(y_test, lr_probs)\n",
    "nb_fpr, nb_tpr, _ = roc_curve(y_test, nb_probs)\n",
    "knn_fpr, knn_tpr, _ = roc_curve(y_test, knn_probs)\n",
    "dt_fpr, dt_tpr, _ = roc_curve(y_test, dt_probs)"
   ]
  },
  {
   "cell_type": "markdown",
   "id": "9e73f0d9",
   "metadata": {},
   "source": [
    "<b> Plotting ROC curve"
   ]
  },
  {
   "cell_type": "code",
   "execution_count": 68,
   "id": "79304c75",
   "metadata": {},
   "outputs": [
    {
     "data": {
      "image/png": "[encoded data removed]",
      "text/plain": [
       "<Figure size 432x288 with 1 Axes>"
      ]
     },
     "metadata": {},
     "output_type": "display_data"
    }
   ],
   "source": [
    "import matplotlib.pyplot as plt\n",
    "\n",
    "plt.plot(r_fpr, r_tpr, linestyle='--', label='Random prediction (AUROC = %0.3f)' % r_auc)\n",
    "plt.plot(lr_fpr, lr_tpr, marker ='.', label='Logistic regressoin (AUROC = %0.3f)' % lr_auc)\n",
    "plt.plot(nb_fpr, nb_tpr, marker='.', label='Naive Bayes (AUROC = %0.3f)' % nb_auc)\n",
    "plt.plot(knn_fpr, knn_tpr, marker='.', label='KNN (AUROC = %0.3f)' % knn_auc)\n",
    "plt.plot(dt_fpr, dt_tpr, marker='.', label='Deision Tree (AUROC = %0.3f)' % dt_auc)\n",
    "# Title\n",
    "plt.title('ROC Plot')\n",
    "# Axis labels\n",
    "plt.xlabel('False Positive Rate')\n",
    "plt.ylabel('True Positive Rate')\n",
    "# Show legend\n",
    "plt.legend() # \n",
    "# Show plot\n",
    "plt.show()\n"
   ]
  },
  {
   "cell_type": "markdown",
   "id": "22278b95",
   "metadata": {},
   "source": [
    "<b> Best model validation with scores "
   ]
  },
  {
   "cell_type": "code",
   "execution_count": 69,
   "id": "cbba4899",
   "metadata": {},
   "outputs": [
    {
     "data": {
      "text/html": [
       "<div>\n",
       "<style scoped>\n",
       "    .dataframe tbody tr th:only-of-type {\n",
       "        vertical-align: middle;\n",
       "    }\n",
       "\n",
       "    .dataframe tbody tr th {\n",
       "        vertical-align: top;\n",
       "    }\n",
       "\n",
       "    .dataframe thead th {\n",
       "        text-align: right;\n",
       "    }\n",
       "</style>\n",
       "<table border=\"1\" class=\"dataframe\">\n",
       "  <thead>\n",
       "    <tr style=\"text-align: right;\">\n",
       "      <th></th>\n",
       "      <th>Model</th>\n",
       "      <th>Score</th>\n",
       "    </tr>\n",
       "  </thead>\n",
       "  <tbody>\n",
       "    <tr>\n",
       "      <th>1</th>\n",
       "      <td>LogisticRegression</td>\n",
       "      <td>0.984733</td>\n",
       "    </tr>\n",
       "    <tr>\n",
       "      <th>0</th>\n",
       "      <td>Decision Tree</td>\n",
       "      <td>0.974555</td>\n",
       "    </tr>\n",
       "    <tr>\n",
       "      <th>3</th>\n",
       "      <td>Naive Bayes</td>\n",
       "      <td>0.974555</td>\n",
       "    </tr>\n",
       "    <tr>\n",
       "      <th>2</th>\n",
       "      <td>K-Nearest Neighbours</td>\n",
       "      <td>0.916031</td>\n",
       "    </tr>\n",
       "  </tbody>\n",
       "</table>\n",
       "</div>"
      ],
      "text/plain": [
       "                  Model     Score\n",
       "1    LogisticRegression  0.984733\n",
       "0         Decision Tree  0.974555\n",
       "3           Naive Bayes  0.974555\n",
       "2  K-Nearest Neighbours  0.916031"
      ]
     },
     "execution_count": 69,
     "metadata": {},
     "output_type": "execute_result"
    }
   ],
   "source": [
    "models = pd.DataFrame({\n",
    "    'Model': ['Decision Tree','LogisticRegression','K-Nearest Neighbours', 'Naive Bayes'],\n",
    "    'Score': [dt.score(X_test,y_test),lr.score(X_test,y_test),knn.score(X_test,y_test),nb.score(X_test,y_test)]})\n",
    "models.sort_values(by='Score', ascending=False)"
   ]
  },
  {
   "cell_type": "markdown",
   "id": "19f923ed",
   "metadata": {},
   "source": [
    "<b> Logistic Regression Feature importance"
   ]
  },
  {
   "cell_type": "code",
   "execution_count": 70,
   "id": "5e15ec09",
   "metadata": {},
   "outputs": [
    {
     "name": "stderr",
     "output_type": "stream",
     "text": [
      "/opt/anaconda3/lib/python3.8/site-packages/sklearn/linear_model/_logistic.py:763: ConvergenceWarning: lbfgs failed to converge (status=1):\n",
      "STOP: TOTAL NO. of ITERATIONS REACHED LIMIT.\n",
      "\n",
      "Increase the number of iterations (max_iter) or scale the data as shown in:\n",
      "    https://scikit-learn.org/stable/modules/preprocessing.html\n",
      "Please also refer to the documentation for alternative solver options:\n",
      "    https://scikit-learn.org/stable/modules/linear_model.html#logistic-regression\n",
      "  n_iter_i = _check_optimize_result(\n"
     ]
    },
    {
     "data": {
      "text/html": [
       "<div>\n",
       "<style scoped>\n",
       "    .dataframe tbody tr th:only-of-type {\n",
       "        vertical-align: middle;\n",
       "    }\n",
       "\n",
       "    .dataframe tbody tr th {\n",
       "        vertical-align: top;\n",
       "    }\n",
       "\n",
       "    .dataframe thead th {\n",
       "        text-align: right;\n",
       "    }\n",
       "</style>\n",
       "<table border=\"1\" class=\"dataframe\">\n",
       "  <thead>\n",
       "    <tr style=\"text-align: right;\">\n",
       "      <th></th>\n",
       "      <th>feature</th>\n",
       "      <th>feature_importance</th>\n",
       "    </tr>\n",
       "  </thead>\n",
       "  <tbody>\n",
       "    <tr>\n",
       "      <th>6</th>\n",
       "      <td>boat_mod</td>\n",
       "      <td>6.494242</td>\n",
       "    </tr>\n",
       "    <tr>\n",
       "      <th>4</th>\n",
       "      <td>Gender_Binary</td>\n",
       "      <td>2.541761</td>\n",
       "    </tr>\n",
       "    <tr>\n",
       "      <th>7</th>\n",
       "      <td>body_mod</td>\n",
       "      <td>1.073472</td>\n",
       "    </tr>\n",
       "    <tr>\n",
       "      <th>0</th>\n",
       "      <td>pclass</td>\n",
       "      <td>0.577980</td>\n",
       "    </tr>\n",
       "    <tr>\n",
       "      <th>2</th>\n",
       "      <td>parch</td>\n",
       "      <td>0.260199</td>\n",
       "    </tr>\n",
       "    <tr>\n",
       "      <th>5</th>\n",
       "      <td>embarked_Binary</td>\n",
       "      <td>0.240885</td>\n",
       "    </tr>\n",
       "    <tr>\n",
       "      <th>1</th>\n",
       "      <td>sibsp</td>\n",
       "      <td>0.192420</td>\n",
       "    </tr>\n",
       "    <tr>\n",
       "      <th>8</th>\n",
       "      <td>age</td>\n",
       "      <td>0.020273</td>\n",
       "    </tr>\n",
       "    <tr>\n",
       "      <th>3</th>\n",
       "      <td>fare</td>\n",
       "      <td>0.000598</td>\n",
       "    </tr>\n",
       "  </tbody>\n",
       "</table>\n",
       "</div>"
      ],
      "text/plain": [
       "           feature  feature_importance\n",
       "6         boat_mod            6.494242\n",
       "4    Gender_Binary            2.541761\n",
       "7         body_mod            1.073472\n",
       "0           pclass            0.577980\n",
       "2            parch            0.260199\n",
       "5  embarked_Binary            0.240885\n",
       "1            sibsp            0.192420\n",
       "8              age            0.020273\n",
       "3             fare            0.000598"
      ]
     },
     "execution_count": 70,
     "metadata": {},
     "output_type": "execute_result"
    }
   ],
   "source": [
    "features=pd.get_dummies(x,drop_first=True)\n",
    "features['age']=data['age']\n",
    " \n",
    "lr.fit(features,data['survived'])\n",
    " \n",
    "feature_importance=pd.DataFrame({'feature':list(features.columns),'feature_importance':[abs(i) for i in lr.coef_[0]]})\n",
    "feature_importance.sort_values('feature_importance',ascending=False)"
   ]
  },
  {
   "cell_type": "markdown",
   "id": "26806b33",
   "metadata": {},
   "source": [
    "<b> Decision tree Feature importance"
   ]
  },
  {
   "cell_type": "code",
   "execution_count": 71,
   "id": "55a654ef",
   "metadata": {},
   "outputs": [
    {
     "data": {
      "image/png": "[encoded data removed]",
      "text/plain": [
       "<Figure size 576x360 with 1 Axes>"
      ]
     },
     "metadata": {},
     "output_type": "display_data"
    }
   ],
   "source": [
    "\n",
    "importances = pd.DataFrame(dt.feature_importances_, index = X_train.columns)\n",
    "importances.sort_values(by = 0, inplace=True, ascending = False)\n",
    "importances = importances.iloc[0:5,:] \n",
    "\n",
    "plt.figure(figsize=(8, 5)) \n",
    "sns.barplot(x=0, y=importances.index, data=importances,palette=\"deep\").set_title(\"Feature Importances\",\n",
    "                                                                                 fontdict= { 'fontsize': 20,\n",
    "                                                                                            'fontweight':'bold'});\n",
    "sns.despine()"
   ]
  },
  {
   "cell_type": "markdown",
   "id": "96d768c0",
   "metadata": {},
   "source": [
    "<b> Naive Bayes feature Importance"
   ]
  },
  {
   "cell_type": "code",
   "execution_count": 72,
   "id": "cfbd42fd",
   "metadata": {},
   "outputs": [
    {
     "data": {
      "text/html": [
       "<div>\n",
       "<style scoped>\n",
       "    .dataframe tbody tr th:only-of-type {\n",
       "        vertical-align: middle;\n",
       "    }\n",
       "\n",
       "    .dataframe tbody tr th {\n",
       "        vertical-align: top;\n",
       "    }\n",
       "\n",
       "    .dataframe thead th {\n",
       "        text-align: right;\n",
       "    }\n",
       "</style>\n",
       "<table border=\"1\" class=\"dataframe\">\n",
       "  <thead>\n",
       "    <tr style=\"text-align: right;\">\n",
       "      <th></th>\n",
       "      <th>Variable</th>\n",
       "      <th>importance</th>\n",
       "    </tr>\n",
       "  </thead>\n",
       "  <tbody>\n",
       "    <tr>\n",
       "      <th>0</th>\n",
       "      <td>boat_mod</td>\n",
       "      <td>0.357252</td>\n",
       "    </tr>\n",
       "    <tr>\n",
       "      <th>1</th>\n",
       "      <td>body_mod</td>\n",
       "      <td>0.031043</td>\n",
       "    </tr>\n",
       "    <tr>\n",
       "      <th>2</th>\n",
       "      <td>fare</td>\n",
       "      <td>0.016794</td>\n",
       "    </tr>\n",
       "    <tr>\n",
       "      <th>3</th>\n",
       "      <td>Gender_Binary</td>\n",
       "      <td>0.003053</td>\n",
       "    </tr>\n",
       "    <tr>\n",
       "      <th>4</th>\n",
       "      <td>pclass</td>\n",
       "      <td>0.000000</td>\n",
       "    </tr>\n",
       "    <tr>\n",
       "      <th>5</th>\n",
       "      <td>parch</td>\n",
       "      <td>0.000000</td>\n",
       "    </tr>\n",
       "    <tr>\n",
       "      <th>6</th>\n",
       "      <td>embarked_Binary</td>\n",
       "      <td>0.000000</td>\n",
       "    </tr>\n",
       "    <tr>\n",
       "      <th>7</th>\n",
       "      <td>sibsp</td>\n",
       "      <td>-0.000509</td>\n",
       "    </tr>\n",
       "  </tbody>\n",
       "</table>\n",
       "</div>"
      ],
      "text/plain": [
       "          Variable  importance\n",
       "0         boat_mod    0.357252\n",
       "1         body_mod    0.031043\n",
       "2             fare    0.016794\n",
       "3    Gender_Binary    0.003053\n",
       "4           pclass    0.000000\n",
       "5            parch    0.000000\n",
       "6  embarked_Binary    0.000000\n",
       "7            sibsp   -0.000509"
      ]
     },
     "execution_count": 72,
     "metadata": {},
     "output_type": "execute_result"
    }
   ],
   "source": [
    "from sklearn.inspection import permutation_importance\n",
    "\n",
    "imps = permutation_importance(nb, X_test, y_test)\n",
    "importances = imps.importances_mean\n",
    "std = imps.importances_std\n",
    "indices = np.argsort(importances)[::-1]\n",
    "col_names = X_train.columns.values\n",
    "NB_Imp = pd.DataFrame({'Variable':col_names,'importance': importances, 'index': indices}, columns=['Variable','importance'])\n",
    "NB_Imp_sort = NB_Imp.sort_values(by = 'importance',ascending = False, ignore_index=True)\n",
    "NB_Imp_sort"
   ]
  },
  {
   "cell_type": "markdown",
   "id": "82d9444d",
   "metadata": {},
   "source": [
    "<b> KNN Feature importance module"
   ]
  },
  {
   "cell_type": "code",
   "execution_count": 73,
   "id": "eb708c63",
   "metadata": {},
   "outputs": [
    {
     "data": {
      "text/html": [
       "<div>\n",
       "<style scoped>\n",
       "    .dataframe tbody tr th:only-of-type {\n",
       "        vertical-align: middle;\n",
       "    }\n",
       "\n",
       "    .dataframe tbody tr th {\n",
       "        vertical-align: top;\n",
       "    }\n",
       "\n",
       "    .dataframe thead th {\n",
       "        text-align: right;\n",
       "    }\n",
       "</style>\n",
       "<table border=\"1\" class=\"dataframe\">\n",
       "  <thead>\n",
       "    <tr style=\"text-align: right;\">\n",
       "      <th></th>\n",
       "      <th>Variable</th>\n",
       "      <th>importance</th>\n",
       "    </tr>\n",
       "  </thead>\n",
       "  <tbody>\n",
       "    <tr>\n",
       "      <th>0</th>\n",
       "      <td>boat_mod</td>\n",
       "      <td>0.243257</td>\n",
       "    </tr>\n",
       "    <tr>\n",
       "      <th>1</th>\n",
       "      <td>fare</td>\n",
       "      <td>0.074300</td>\n",
       "    </tr>\n",
       "    <tr>\n",
       "      <th>2</th>\n",
       "      <td>sibsp</td>\n",
       "      <td>0.035623</td>\n",
       "    </tr>\n",
       "    <tr>\n",
       "      <th>3</th>\n",
       "      <td>Gender_Binary</td>\n",
       "      <td>0.022392</td>\n",
       "    </tr>\n",
       "    <tr>\n",
       "      <th>4</th>\n",
       "      <td>pclass</td>\n",
       "      <td>0.019338</td>\n",
       "    </tr>\n",
       "    <tr>\n",
       "      <th>5</th>\n",
       "      <td>parch</td>\n",
       "      <td>0.012214</td>\n",
       "    </tr>\n",
       "    <tr>\n",
       "      <th>6</th>\n",
       "      <td>body_mod</td>\n",
       "      <td>0.001527</td>\n",
       "    </tr>\n",
       "    <tr>\n",
       "      <th>7</th>\n",
       "      <td>embarked_Binary</td>\n",
       "      <td>-0.004071</td>\n",
       "    </tr>\n",
       "  </tbody>\n",
       "</table>\n",
       "</div>"
      ],
      "text/plain": [
       "          Variable  importance\n",
       "0         boat_mod    0.243257\n",
       "1             fare    0.074300\n",
       "2            sibsp    0.035623\n",
       "3    Gender_Binary    0.022392\n",
       "4           pclass    0.019338\n",
       "5            parch    0.012214\n",
       "6         body_mod    0.001527\n",
       "7  embarked_Binary   -0.004071"
      ]
     },
     "execution_count": 73,
     "metadata": {},
     "output_type": "execute_result"
    }
   ],
   "source": [
    "from sklearn.inspection import permutation_importance\n",
    "\n",
    "imps = permutation_importance(knn, X_test, y_test)\n",
    "importances = imps.importances_mean\n",
    "std = imps.importances_std\n",
    "indices = np.argsort(importances)[::-1]\n",
    "col_names = X_train.columns.values\n",
    "knn_Imp = pd.DataFrame({'Variable':col_names,'importance': importances, 'index': indices}, columns=['Variable','importance'])\n",
    "knn_Imp_sort = knn_Imp.sort_values(by = 'importance',ascending = False, ignore_index=True)\n",
    "knn_Imp_sort"
   ]
  },
  {
   "cell_type": "code",
   "execution_count": null,
   "id": "f3d5901f",
   "metadata": {},
   "outputs": [],
   "source": []
  }
 ],
 "metadata": {
  "kernelspec": {
   "display_name": "Python 3",
   "language": "python",
   "name": "python3"
  },
  "language_info": {
   "codemirror_mode": {
    "name": "ipython",
    "version": 3
   },
   "file_extension": ".py",
   "mimetype": "text/x-python",
   "name": "python",
   "nbconvert_exporter": "python",
   "pygments_lexer": "ipython3",
   "version": "3.8.8"
  }
 },
 "nbformat": 4,
 "nbformat_minor": 5
}
